{
 "cells": [
  {
   "cell_type": "markdown",
   "id": "61cadb21",
   "metadata": {},
   "source": [
    "### Primero se importan las bibliotecas necesarias"
   ]
  },
  {
   "cell_type": "code",
   "execution_count": 1,
   "id": "2eef3e64",
   "metadata": {},
   "outputs": [],
   "source": [
    "import pandas as pd\n",
    "import matplotlib.pyplot as plt\n",
    "import numpy as np\n",
    "import os\n",
    "import time\n",
    "import psutil\n",
    "from collections import defaultdict\n",
    "import seaborn as sns\n",
    "# Especiales de RecSys\n",
    "import surprise\n",
    "from surprise import accuracy\n",
    "from surprise import SVD\n",
    "from surprise import SVDpp\n",
    "from surprise.model_selection import PredefinedKFold\n",
    "from surprise.model_selection import cross_validate\n",
    "\n"
   ]
  },
  {
   "cell_type": "markdown",
   "id": "a60b257b",
   "metadata": {},
   "source": [
    "### Funciones utiles"
   ]
  },
  {
   "cell_type": "code",
   "execution_count": 2,
   "id": "0fede36d",
   "metadata": {},
   "outputs": [],
   "source": [
    "def costo_computacional(algoritmo, trainset, imprimir=True):\n",
    "    proceso = psutil.Process()\n",
    "    inicio_tiempo = time.time()\n",
    "    inicio_cpu = proceso.cpu_percent(interval=None)\n",
    "    inicio_memoria = proceso.memory_info().rss\n",
    "\n",
    "    algoritmo.fit(trainset)\n",
    "\n",
    "    fin_tiempo = time.time()\n",
    "    fin_cpu = proceso.cpu_percent(interval=None)\n",
    "    fin_memoria = proceso.memory_info().rss\n",
    "\n",
    "    tiempo = fin_tiempo - inicio_tiempo\n",
    "    cpu = fin_cpu - inicio_cpu\n",
    "    memoria = (fin_memoria - inicio_memoria) / (1024 * 1024)\n",
    "\n",
    "    if imprimir:\n",
    "        print(f\"Tiempo entrenamiento: {tiempo:.2f} segundos\")\n",
    "        print(f\"Uso de CPU: {cpu:.2f}%\")\n",
    "        print(f\"Uso de memoria: {memoria:.2f} MB\")\n",
    "    return tiempo, cpu, memoria"
   ]
  },
  {
   "cell_type": "markdown",
   "id": "d4228336",
   "metadata": {},
   "source": [
    "### Datos a utilizar"
   ]
  },
  {
   "cell_type": "code",
   "execution_count": 3,
   "id": "70bca84e",
   "metadata": {},
   "outputs": [],
   "source": [
    "train_data = pd.read_csv(\"datos/train.csv\")\n",
    "validation_data = pd.read_csv(\"datos/validation.csv\")"
   ]
  },
  {
   "cell_type": "markdown",
   "id": "a700b248",
   "metadata": {},
   "source": [
    "### Preparación datos"
   ]
  },
  {
   "cell_type": "markdown",
   "id": "28209683",
   "metadata": {},
   "source": [
    "Debido a que se uso la libreria Surprise para todos los modelos (ya que pyRecLab no se podia usar localmente en Mac OS), los datos se prepararon como trainset y testset solo una vez, los cuales luego fueron utilizados por todos los algoritmos enumerados a continuación."
   ]
  },
  {
   "cell_type": "code",
   "execution_count": 4,
   "id": "8b213b8c",
   "metadata": {},
   "outputs": [],
   "source": [
    "reader = surprise.Reader(rating_scale=(1,5))\n",
    "trainset = surprise.Dataset.load_from_df(train_data[[\"user_id\", \"item_id\", \"rating\"]], reader).build_full_trainset()\n",
    "testset = list(zip(validation_data[\"user_id\"], validation_data[\"item_id\"], validation_data[\"rating\"]))"
   ]
  },
  {
   "cell_type": "markdown",
   "id": "43fae172",
   "metadata": {},
   "source": [
    "### 1. User-based collaborative filtering"
   ]
  },
  {
   "cell_type": "code",
   "execution_count": 5,
   "id": "c53624d9",
   "metadata": {},
   "outputs": [
    {
     "name": "stdout",
     "output_type": "stream",
     "text": [
      "Computing the pearson similarity matrix...\n",
      "Done computing similarity matrix.\n",
      "Tiempo entrenamiento: 0.32 segundos\n",
      "Uso de CPU: 100.30%\n",
      "Uso de memoria: 257.97 MB\n",
      "RMSE: 1.1506\n",
      "MAE:  0.8847\n"
     ]
    }
   ],
   "source": [
    "myUserKnn = surprise.KNNBasic(k=7, sim_options={'name': 'pearson', 'user_based': True})\n",
    "tiempo, cpu, memoria =costo_computacional(myUserKnn, trainset, True)\n",
    "predictions = myUserKnn.test(testset)\n",
    "rmse_1 = accuracy.rmse(predictions)\n",
    "mae_1 = accuracy.mae(predictions)"
   ]
  },
  {
   "cell_type": "markdown",
   "id": "154f1e2b",
   "metadata": {},
   "source": [
    "### 2. Item-based collaborative filtering"
   ]
  },
  {
   "cell_type": "code",
   "execution_count": 6,
   "id": "218d5857",
   "metadata": {},
   "outputs": [
    {
     "name": "stdout",
     "output_type": "stream",
     "text": [
      "Computing the pearson similarity matrix...\n",
      "Done computing similarity matrix.\n",
      "Tiempo entrenamiento: 5.66 segundos\n",
      "Uso de CPU: 65.60%\n",
      "Uso de memoria: 770.48 MB\n",
      "RMSE: 1.1511\n",
      "MAE:  0.8554\n"
     ]
    }
   ],
   "source": [
    "myItemKnn = surprise.KNNBasic(k=7, sim_options={'name': 'pearson', 'user_based': False})\n",
    "tiempo, cpu, memoria =costo_computacional(myItemKnn, trainset, True)\n",
    "predictions = myItemKnn.test(testset)\n",
    "rmse_2 = accuracy.rmse(predictions)\n",
    "mae_2 = accuracy.mae(predictions)"
   ]
  },
  {
   "cell_type": "markdown",
   "id": "e235f926",
   "metadata": {},
   "source": [
    "### 3. FunkSVD"
   ]
  },
  {
   "cell_type": "code",
   "execution_count": 7,
   "id": "c7821b32",
   "metadata": {},
   "outputs": [
    {
     "name": "stdout",
     "output_type": "stream",
     "text": [
      "Tiempo entrenamiento: 0.45 segundos\n",
      "Uso de CPU: 100.10%\n",
      "Uso de memoria: 18.38 MB\n",
      "RMSE: 1.0085\n",
      "MAE:  0.7297\n"
     ]
    }
   ],
   "source": [
    "funksvd = SVD(n_factors = 100, n_epochs = 20, lr_all = 0.005, reg_all = 0.02)\n",
    "tiempo, cpu, memoria =costo_computacional(funksvd, trainset, True)\n",
    "predictions = funksvd.test(testset)\n",
    "rmse_3 = accuracy.rmse(predictions)\n",
    "mae_3 = accuracy.mae(predictions)"
   ]
  },
  {
   "cell_type": "markdown",
   "id": "e8a290c9",
   "metadata": {},
   "source": [
    "### 4. SVD++ (opcional)"
   ]
  },
  {
   "cell_type": "code",
   "execution_count": 8,
   "id": "fac17993",
   "metadata": {},
   "outputs": [
    {
     "name": "stdout",
     "output_type": "stream",
     "text": [
      "Tiempo entrenamiento: 0.70 segundos\n",
      "Uso de CPU: 100.00%\n",
      "Uso de memoria: 7.84 MB\n",
      "RMSE: 1.0033\n",
      "MAE:  0.7105\n"
     ]
    }
   ],
   "source": [
    "svdpp = SVDpp(n_factors = 20, n_epochs = 20, lr_all = 0.007, reg_all = 0.02)\n",
    "tiempo, cpu, memoria =costo_computacional(svdpp, trainset, True)\n",
    "predictions = svdpp.test(testset)\n",
    "rmse_4 = accuracy.rmse(predictions)\n",
    "mae_4 = accuracy.mae(predictions)"
   ]
  }
 ],
 "metadata": {
  "kernelspec": {
   "display_name": "Python 3",
   "language": "python",
   "name": "python3"
  },
  "language_info": {
   "codemirror_mode": {
    "name": "ipython",
    "version": 3
   },
   "file_extension": ".py",
   "mimetype": "text/x-python",
   "name": "python",
   "nbconvert_exporter": "python",
   "pygments_lexer": "ipython3",
   "version": "3.10.11"
  }
 },
 "nbformat": 4,
 "nbformat_minor": 5
}
