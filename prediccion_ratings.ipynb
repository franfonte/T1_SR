{
 "cells": [
  {
   "cell_type": "markdown",
   "id": "61cadb21",
   "metadata": {},
   "source": [
    "### Primero se importan las bibliotecas necesarias"
   ]
  },
  {
   "cell_type": "code",
   "execution_count": null,
   "id": "2eef3e64",
   "metadata": {},
   "outputs": [],
   "source": [
    "import pandas as pd\n",
    "import matplotlib.pyplot as plt\n",
    "import numpy as np\n",
    "import os\n",
    "from collections import defaultdict\n",
    "# Especiales de RecSys\n",
    "import surprise\n"
   ]
  },
  {
   "cell_type": "markdown",
   "id": "43fae172",
   "metadata": {},
   "source": [
    "### 1. User-based collaborative filtering"
   ]
  },
  {
   "cell_type": "markdown",
   "id": "154f1e2b",
   "metadata": {},
   "source": [
    "### 2. Item-based collaborative filtering"
   ]
  },
  {
   "cell_type": "markdown",
   "id": "e235f926",
   "metadata": {},
   "source": [
    "### 3. FunkSVD"
   ]
  },
  {
   "cell_type": "markdown",
   "id": "e8a290c9",
   "metadata": {},
   "source": [
    "### 4. SVD++ (opcional)"
   ]
  }
 ],
 "metadata": {
  "kernelspec": {
   "display_name": "Python 3",
   "language": "python",
   "name": "python3"
  },
  "language_info": {
   "codemirror_mode": {
    "name": "ipython",
    "version": 3
   },
   "file_extension": ".py",
   "mimetype": "text/x-python",
   "name": "python",
   "nbconvert_exporter": "python",
   "pygments_lexer": "ipython3",
   "version": "3.10.11"
  }
 },
 "nbformat": 4,
 "nbformat_minor": 5
}
