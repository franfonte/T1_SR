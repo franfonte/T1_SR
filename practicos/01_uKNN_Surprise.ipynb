{
 "cells": [
  {
   "cell_type": "markdown",
   "metadata": {
    "id": "NC-ceGb8LRLT"
   },
   "source": [
    "# Tutorial Surprise UserKNN"
   ]
  },
  {
   "cell_type": "markdown",
   "metadata": {
    "id": "mACJbcW8T35p"
   },
   "source": [
    "En este práctico vamos a utilizar la biblioteca de Python [Surprise](http://surpriselib.com/) desarrollada por Nicolas Hug, para aprender sobre User KNN (Filtrado colaborativo basado en usuarios)\n",
    "\n",
    "**Profesor**: Denis Parra\n",
    "\n",
    "**Ayudantes**: Florencia Ferrer, Álvaro Labarca, Nicolás Sumonte, Jorge Facuse y Pablo Messina.\n"
   ]
  },
  {
   "cell_type": "markdown",
   "metadata": {
    "id": "2j02H66f87eV"
   },
   "source": [
    "# Índice"
   ]
  },
  {
   "cell_type": "markdown",
   "metadata": {
    "colab_type": "toc",
    "id": "Ig9HHqbC84j5"
   },
   "source": [
    ">[Tutorial Surprise UserKNN](#scrollTo=NC-ceGb8LRLT)\n",
    "\n",
    ">[Índice](#scrollTo=2j02H66f87eV)\n",
    "\n",
    ">[Descargando la información](#scrollTo=9qKTQ2V5VKSX)\n",
    "\n",
    ">[Revisar archivos descargados](#scrollTo=liJ3L2kl4g1o)\n",
    "\n",
    ">>[Como ver la información de una o más películas](#scrollTo=jqXxj773Foo8)\n",
    "\n",
    ">>[Preparar entorno](#scrollTo=P3K5VPZoGSYX)\n",
    "\n",
    ">>[UserKNN](#scrollTo=2e0ZeZXzMhU3)\n",
    "\n",
    ">>[Predecir el rating que le dará un usuario a un cierto item](#scrollTo=lEx2TVc1B5wk)\n",
    "\n",
    ">>[Generar una lista de recomendaciones para un usuario](#scrollTo=dIVXNsQ8CCJV)\n",
    "\n",
    ">>[Explorar los hiperparámetros del modelo UserKnn](#scrollTo=6_Kp3zRwJ9gv)\n",
    "\n",
    ">>>[Evaluar en base a error de prediccion (RMSE y MAE)](#scrollTo=g55SDLmqCpUo)\n",
    "\n"
   ]
  },
  {
   "cell_type": "markdown",
   "metadata": {
    "id": "niuis1icCcyv"
   },
   "source": [
    "## Configuración Inicial"
   ]
  },
  {
   "cell_type": "markdown",
   "metadata": {
    "id": "UDEVdLNI-UAs"
   },
   "source": [
    "Esta celda permite instalar una versión compatible de Numpy. Una vez que se pida reiniciar la sesión, no hay que volver a ejecutar esta celda."
   ]
  },
  {
   "cell_type": "code",
   "execution_count": 1,
   "metadata": {
    "colab": {
     "base_uri": "https://localhost:8080/",
     "height": 481
    },
    "id": "re8lJGln-CkG",
    "outputId": "082fb062-42eb-4b52-bb7c-3d89987a3027"
   },
   "outputs": [
    {
     "name": "stdout",
     "output_type": "stream",
     "text": [
      "Found existing installation: numpy 1.26.4\n",
      "Uninstalling numpy-1.26.4:\n",
      "  Successfully uninstalled numpy-1.26.4\n",
      "Collecting numpy==1.25\n",
      "  Downloading numpy-1.25.0-cp310-cp310-macosx_11_0_arm64.whl.metadata (5.6 kB)\n",
      "Downloading numpy-1.25.0-cp310-cp310-macosx_11_0_arm64.whl (14.0 MB)\n",
      "\u001b[2K   \u001b[90m━━━━━━━━━━━━━━━━━━━━━━━━━━━━━━━━━━━━━━━━\u001b[0m \u001b[32m14.0/14.0 MB\u001b[0m \u001b[31m6.1 MB/s\u001b[0m eta \u001b[36m0:00:00\u001b[0m00:01\u001b[0m00:01\u001b[0m\n",
      "\u001b[?25hInstalling collected packages: numpy\n",
      "Successfully installed numpy-1.25.0\n",
      "\n",
      "\u001b[1m[\u001b[0m\u001b[34;49mnotice\u001b[0m\u001b[1;39;49m]\u001b[0m\u001b[39;49m A new release of pip is available: \u001b[0m\u001b[31;49m24.0\u001b[0m\u001b[39;49m -> \u001b[0m\u001b[32;49m25.2\u001b[0m\n",
      "\u001b[1m[\u001b[0m\u001b[34;49mnotice\u001b[0m\u001b[1;39;49m]\u001b[0m\u001b[39;49m To update, run: \u001b[0m\u001b[32;49mpip install --upgrade pip\u001b[0m\n"
     ]
    }
   ],
   "source": [
    "!pip uninstall -y numpy\n",
    "!pip install numpy==1.25"
   ]
  },
  {
   "cell_type": "markdown",
   "metadata": {
    "id": "9qKTQ2V5VKSX"
   },
   "source": [
    "### Descargando la información\n",
    "\n",
    "Ejecutar cada celda presionando el botón de **Play** o presionando Ctrl+Enter (Linux y Windows) o Command+Enter (OSX) para descargar las bases de datos"
   ]
  },
  {
   "cell_type": "code",
   "execution_count": 2,
   "metadata": {
    "colab": {
     "base_uri": "https://localhost:8080/"
    },
    "id": "qssZLqss8Jyw",
    "outputId": "113fa2ca-d066-4843-d0a8-a542252f3671"
   },
   "outputs": [
    {
     "name": "stdout",
     "output_type": "stream",
     "text": [
      "Requirement already satisfied: gdown in /Library/Frameworks/Python.framework/Versions/3.10/lib/python3.10/site-packages (4.7.1)\n",
      "Requirement already satisfied: filelock in /Library/Frameworks/Python.framework/Versions/3.10/lib/python3.10/site-packages (from gdown) (3.12.4)\n",
      "Requirement already satisfied: requests[socks] in /Library/Frameworks/Python.framework/Versions/3.10/lib/python3.10/site-packages (from gdown) (2.31.0)\n",
      "Requirement already satisfied: six in /Users/ffontecilla/Library/Python/3.10/lib/python/site-packages (from gdown) (1.16.0)\n",
      "Requirement already satisfied: tqdm in /Library/Frameworks/Python.framework/Versions/3.10/lib/python3.10/site-packages (from gdown) (4.66.1)\n",
      "Requirement already satisfied: beautifulsoup4 in /Users/ffontecilla/Library/Python/3.10/lib/python/site-packages (from gdown) (4.11.1)\n",
      "Requirement already satisfied: soupsieve>1.2 in /Users/ffontecilla/Library/Python/3.10/lib/python/site-packages (from beautifulsoup4->gdown) (2.3.2.post1)\n",
      "Requirement already satisfied: charset-normalizer<4,>=2 in /Library/Frameworks/Python.framework/Versions/3.10/lib/python3.10/site-packages (from requests[socks]->gdown) (3.1.0)\n",
      "Requirement already satisfied: idna<4,>=2.5 in /Users/ffontecilla/Library/Python/3.10/lib/python/site-packages (from requests[socks]->gdown) (3.4)\n",
      "Requirement already satisfied: urllib3<3,>=1.21.1 in /Library/Frameworks/Python.framework/Versions/3.10/lib/python3.10/site-packages (from requests[socks]->gdown) (2.0.3)\n",
      "Requirement already satisfied: certifi>=2017.4.17 in /Library/Frameworks/Python.framework/Versions/3.10/lib/python3.10/site-packages (from requests[socks]->gdown) (2023.5.7)\n",
      "Requirement already satisfied: PySocks!=1.5.7,>=1.5.6 in /Library/Frameworks/Python.framework/Versions/3.10/lib/python3.10/site-packages (from requests[socks]->gdown) (1.7.1)\n",
      "\n",
      "\u001b[1m[\u001b[0m\u001b[34;49mnotice\u001b[0m\u001b[1;39;49m]\u001b[0m\u001b[39;49m A new release of pip is available: \u001b[0m\u001b[31;49m24.0\u001b[0m\u001b[39;49m -> \u001b[0m\u001b[32;49m25.2\u001b[0m\n",
      "\u001b[1m[\u001b[0m\u001b[34;49mnotice\u001b[0m\u001b[1;39;49m]\u001b[0m\u001b[39;49m To update, run: \u001b[0m\u001b[32;49mpip install --upgrade pip\u001b[0m\n"
     ]
    }
   ],
   "source": [
    "!pip install gdown"
   ]
  },
  {
   "cell_type": "code",
   "execution_count": null,
   "metadata": {
    "colab": {
     "base_uri": "https://localhost:8080/"
    },
    "id": "k9ns677UutZM",
    "outputId": "4e822208-a61a-4386-b3a3-90ab96ed31a2"
   },
   "outputs": [],
   "source": [
    "!gdown 1UQ8JimYWfj2z0BQISccTWGoirptyVIHU"
   ]
  },
  {
   "cell_type": "code",
   "execution_count": null,
   "metadata": {
    "colab": {
     "base_uri": "https://localhost:8080/"
    },
    "id": "zsxxCm_5uuIC",
    "outputId": "e0cea0c4-9ba3-4b38-bddf-0b0485fa9f67"
   },
   "outputs": [],
   "source": [
    "!gdown 1weLy5CTQiW8ltH24UsK5Y5451NFKNd_N"
   ]
  },
  {
   "cell_type": "code",
   "execution_count": null,
   "metadata": {
    "colab": {
     "base_uri": "https://localhost:8080/"
    },
    "id": "Ji-GEIx4uuQ8",
    "outputId": "e8f172fa-2baf-403f-8c38-6ad12be36592"
   },
   "outputs": [],
   "source": [
    "!gdown 13afMOhZGgIKLz784biKbvZ1rnM4iJzLk"
   ]
  },
  {
   "cell_type": "markdown",
   "metadata": {
    "id": "liJ3L2kl4g1o"
   },
   "source": [
    "Los archivos **u1.base** y **u1.test** tienen tuplas {usuario, item, rating, timestamp}, que es la información de preferencias de usuarios sobre películas en una muestra del dataset [MovieLens](https://grouplens.org/datasets/movielens/).\n",
    "\n",
    "### Revisar archivos descargados\n",
    "\n",
    "Revisemos cómo es uno de estos archivos:"
   ]
  },
  {
   "cell_type": "code",
   "execution_count": 15,
   "metadata": {
    "colab": {
     "base_uri": "https://localhost:8080/",
     "height": 206
    },
    "id": "10N9GHcw5AeV",
    "outputId": "3a4e0f59-3ef6-49a1-a910-0ffcb31bcd26"
   },
   "outputs": [
    {
     "data": {
      "text/html": [
       "<div>\n",
       "<style scoped>\n",
       "    .dataframe tbody tr th:only-of-type {\n",
       "        vertical-align: middle;\n",
       "    }\n",
       "\n",
       "    .dataframe tbody tr th {\n",
       "        vertical-align: top;\n",
       "    }\n",
       "\n",
       "    .dataframe thead th {\n",
       "        text-align: right;\n",
       "    }\n",
       "</style>\n",
       "<table border=\"1\" class=\"dataframe\">\n",
       "  <thead>\n",
       "    <tr style=\"text-align: right;\">\n",
       "      <th></th>\n",
       "      <th>userid</th>\n",
       "      <th>itemid</th>\n",
       "      <th>rating</th>\n",
       "      <th>timestamp</th>\n",
       "    </tr>\n",
       "  </thead>\n",
       "  <tbody>\n",
       "    <tr>\n",
       "      <th>0</th>\n",
       "      <td>1</td>\n",
       "      <td>1</td>\n",
       "      <td>5</td>\n",
       "      <td>874965758</td>\n",
       "    </tr>\n",
       "    <tr>\n",
       "      <th>1</th>\n",
       "      <td>1</td>\n",
       "      <td>2</td>\n",
       "      <td>3</td>\n",
       "      <td>876893171</td>\n",
       "    </tr>\n",
       "    <tr>\n",
       "      <th>2</th>\n",
       "      <td>1</td>\n",
       "      <td>3</td>\n",
       "      <td>4</td>\n",
       "      <td>878542960</td>\n",
       "    </tr>\n",
       "    <tr>\n",
       "      <th>3</th>\n",
       "      <td>1</td>\n",
       "      <td>4</td>\n",
       "      <td>3</td>\n",
       "      <td>876893119</td>\n",
       "    </tr>\n",
       "    <tr>\n",
       "      <th>4</th>\n",
       "      <td>1</td>\n",
       "      <td>5</td>\n",
       "      <td>3</td>\n",
       "      <td>889751712</td>\n",
       "    </tr>\n",
       "  </tbody>\n",
       "</table>\n",
       "</div>"
      ],
      "text/plain": [
       "   userid  itemid  rating  timestamp\n",
       "0       1       1       5  874965758\n",
       "1       1       2       3  876893171\n",
       "2       1       3       4  878542960\n",
       "3       1       4       3  876893119\n",
       "4       1       5       3  889751712"
      ]
     },
     "execution_count": 15,
     "metadata": {},
     "output_type": "execute_result"
    }
   ],
   "source": [
    "import pandas as pd\n",
    "\n",
    "train_file = pd.read_csv('u1.base', sep='\\t', names = ['userid', 'itemid', 'rating', 'timestamp'], header=None)\n",
    "\n",
    "train_file.head()"
   ]
  },
  {
   "cell_type": "code",
   "execution_count": 16,
   "metadata": {
    "colab": {
     "base_uri": "https://localhost:8080/",
     "height": 80
    },
    "id": "wi4TSVE3atjZ",
    "outputId": "0398e825-374d-4b8c-ae4d-c63e4db9d576"
   },
   "outputs": [
    {
     "data": {
      "text/html": [
       "<div>\n",
       "<style scoped>\n",
       "    .dataframe tbody tr th:only-of-type {\n",
       "        vertical-align: middle;\n",
       "    }\n",
       "\n",
       "    .dataframe tbody tr th {\n",
       "        vertical-align: top;\n",
       "    }\n",
       "\n",
       "    .dataframe thead th {\n",
       "        text-align: right;\n",
       "    }\n",
       "</style>\n",
       "<table border=\"1\" class=\"dataframe\">\n",
       "  <thead>\n",
       "    <tr style=\"text-align: right;\">\n",
       "      <th></th>\n",
       "      <th>userid</th>\n",
       "      <th>itemid</th>\n",
       "      <th>rating</th>\n",
       "      <th>timestamp</th>\n",
       "    </tr>\n",
       "  </thead>\n",
       "  <tbody>\n",
       "    <tr>\n",
       "      <th>54444</th>\n",
       "      <td>675</td>\n",
       "      <td>1653</td>\n",
       "      <td>5</td>\n",
       "      <td>889489913</td>\n",
       "    </tr>\n",
       "  </tbody>\n",
       "</table>\n",
       "</div>"
      ],
      "text/plain": [
       "       userid  itemid  rating  timestamp\n",
       "54444     675    1653       5  889489913"
      ]
     },
     "execution_count": 16,
     "metadata": {},
     "output_type": "execute_result"
    }
   ],
   "source": [
    "# Ver la o las filas específicas del item con id = 1653\n",
    "train_file[train_file['itemid'] == 1653]"
   ]
  },
  {
   "cell_type": "markdown",
   "metadata": {
    "id": "BKOrcfaiEdqM"
   },
   "source": [
    "Por otra parte, para obtener información adicional de cada película tal como *título*, *fecha de lanzamient*o, *género*, etc., cargaremos el archivo de items descargado ( *u.item* ) para poder mapear cada identificador de ítem al conjunto de datos que lo describe.\n",
    "Revisemos el contenido de este archivo"
   ]
  },
  {
   "cell_type": "code",
   "execution_count": 17,
   "metadata": {
    "colab": {
     "base_uri": "https://localhost:8080/",
     "height": 396
    },
    "id": "bVtvxJnr_yeK",
    "outputId": "d562d35f-77a5-4d7b-8c65-fb5b55b47b01"
   },
   "outputs": [
    {
     "data": {
      "text/html": [
       "<div>\n",
       "<style scoped>\n",
       "    .dataframe tbody tr th:only-of-type {\n",
       "        vertical-align: middle;\n",
       "    }\n",
       "\n",
       "    .dataframe tbody tr th {\n",
       "        vertical-align: top;\n",
       "    }\n",
       "\n",
       "    .dataframe thead th {\n",
       "        text-align: right;\n",
       "    }\n",
       "</style>\n",
       "<table border=\"1\" class=\"dataframe\">\n",
       "  <thead>\n",
       "    <tr style=\"text-align: right;\">\n",
       "      <th></th>\n",
       "      <th>title</th>\n",
       "      <th>release_date</th>\n",
       "      <th>video_release_date</th>\n",
       "      <th>IMDb_URL</th>\n",
       "      <th>unknown</th>\n",
       "      <th>Action</th>\n",
       "      <th>Adventure</th>\n",
       "      <th>Animation</th>\n",
       "      <th>Children</th>\n",
       "      <th>Comedy</th>\n",
       "      <th>Crime</th>\n",
       "      <th>Documentary</th>\n",
       "      <th>Drama</th>\n",
       "      <th>Fantasy</th>\n",
       "      <th>Film-Noir</th>\n",
       "      <th>Horror</th>\n",
       "      <th>Musical</th>\n",
       "      <th>Mystery</th>\n",
       "      <th>Romance</th>\n",
       "      <th>Sci-Fi</th>\n",
       "      <th>Thriller</th>\n",
       "      <th>War</th>\n",
       "      <th>Western</th>\n",
       "    </tr>\n",
       "    <tr>\n",
       "      <th>movieid</th>\n",
       "      <th></th>\n",
       "      <th></th>\n",
       "      <th></th>\n",
       "      <th></th>\n",
       "      <th></th>\n",
       "      <th></th>\n",
       "      <th></th>\n",
       "      <th></th>\n",
       "      <th></th>\n",
       "      <th></th>\n",
       "      <th></th>\n",
       "      <th></th>\n",
       "      <th></th>\n",
       "      <th></th>\n",
       "      <th></th>\n",
       "      <th></th>\n",
       "      <th></th>\n",
       "      <th></th>\n",
       "      <th></th>\n",
       "      <th></th>\n",
       "      <th></th>\n",
       "      <th></th>\n",
       "      <th></th>\n",
       "    </tr>\n",
       "  </thead>\n",
       "  <tbody>\n",
       "    <tr>\n",
       "      <th>1</th>\n",
       "      <td>Toy Story (1995)</td>\n",
       "      <td>01-Jan-1995</td>\n",
       "      <td>NaN</td>\n",
       "      <td>http://us.imdb.com/M/title-exact?Toy%20Story%2...</td>\n",
       "      <td>0</td>\n",
       "      <td>0</td>\n",
       "      <td>0</td>\n",
       "      <td>1</td>\n",
       "      <td>1</td>\n",
       "      <td>1</td>\n",
       "      <td>0</td>\n",
       "      <td>0</td>\n",
       "      <td>0</td>\n",
       "      <td>0</td>\n",
       "      <td>0</td>\n",
       "      <td>0</td>\n",
       "      <td>0</td>\n",
       "      <td>0</td>\n",
       "      <td>0</td>\n",
       "      <td>0</td>\n",
       "      <td>0</td>\n",
       "      <td>0</td>\n",
       "      <td>0</td>\n",
       "    </tr>\n",
       "    <tr>\n",
       "      <th>2</th>\n",
       "      <td>GoldenEye (1995)</td>\n",
       "      <td>01-Jan-1995</td>\n",
       "      <td>NaN</td>\n",
       "      <td>http://us.imdb.com/M/title-exact?GoldenEye%20(...</td>\n",
       "      <td>0</td>\n",
       "      <td>1</td>\n",
       "      <td>1</td>\n",
       "      <td>0</td>\n",
       "      <td>0</td>\n",
       "      <td>0</td>\n",
       "      <td>0</td>\n",
       "      <td>0</td>\n",
       "      <td>0</td>\n",
       "      <td>0</td>\n",
       "      <td>0</td>\n",
       "      <td>0</td>\n",
       "      <td>0</td>\n",
       "      <td>0</td>\n",
       "      <td>0</td>\n",
       "      <td>0</td>\n",
       "      <td>1</td>\n",
       "      <td>0</td>\n",
       "      <td>0</td>\n",
       "    </tr>\n",
       "    <tr>\n",
       "      <th>3</th>\n",
       "      <td>Four Rooms (1995)</td>\n",
       "      <td>01-Jan-1995</td>\n",
       "      <td>NaN</td>\n",
       "      <td>http://us.imdb.com/M/title-exact?Four%20Rooms%...</td>\n",
       "      <td>0</td>\n",
       "      <td>0</td>\n",
       "      <td>0</td>\n",
       "      <td>0</td>\n",
       "      <td>0</td>\n",
       "      <td>0</td>\n",
       "      <td>0</td>\n",
       "      <td>0</td>\n",
       "      <td>0</td>\n",
       "      <td>0</td>\n",
       "      <td>0</td>\n",
       "      <td>0</td>\n",
       "      <td>0</td>\n",
       "      <td>0</td>\n",
       "      <td>0</td>\n",
       "      <td>0</td>\n",
       "      <td>1</td>\n",
       "      <td>0</td>\n",
       "      <td>0</td>\n",
       "    </tr>\n",
       "    <tr>\n",
       "      <th>4</th>\n",
       "      <td>Get Shorty (1995)</td>\n",
       "      <td>01-Jan-1995</td>\n",
       "      <td>NaN</td>\n",
       "      <td>http://us.imdb.com/M/title-exact?Get%20Shorty%...</td>\n",
       "      <td>0</td>\n",
       "      <td>1</td>\n",
       "      <td>0</td>\n",
       "      <td>0</td>\n",
       "      <td>0</td>\n",
       "      <td>1</td>\n",
       "      <td>0</td>\n",
       "      <td>0</td>\n",
       "      <td>1</td>\n",
       "      <td>0</td>\n",
       "      <td>0</td>\n",
       "      <td>0</td>\n",
       "      <td>0</td>\n",
       "      <td>0</td>\n",
       "      <td>0</td>\n",
       "      <td>0</td>\n",
       "      <td>0</td>\n",
       "      <td>0</td>\n",
       "      <td>0</td>\n",
       "    </tr>\n",
       "    <tr>\n",
       "      <th>5</th>\n",
       "      <td>Copycat (1995)</td>\n",
       "      <td>01-Jan-1995</td>\n",
       "      <td>NaN</td>\n",
       "      <td>http://us.imdb.com/M/title-exact?Copycat%20(1995)</td>\n",
       "      <td>0</td>\n",
       "      <td>0</td>\n",
       "      <td>0</td>\n",
       "      <td>0</td>\n",
       "      <td>0</td>\n",
       "      <td>0</td>\n",
       "      <td>1</td>\n",
       "      <td>0</td>\n",
       "      <td>1</td>\n",
       "      <td>0</td>\n",
       "      <td>0</td>\n",
       "      <td>0</td>\n",
       "      <td>0</td>\n",
       "      <td>0</td>\n",
       "      <td>0</td>\n",
       "      <td>0</td>\n",
       "      <td>1</td>\n",
       "      <td>0</td>\n",
       "      <td>0</td>\n",
       "    </tr>\n",
       "  </tbody>\n",
       "</table>\n",
       "</div>"
      ],
      "text/plain": [
       "                     title release_date  video_release_date  \\\n",
       "movieid                                                       \n",
       "1         Toy Story (1995)  01-Jan-1995                 NaN   \n",
       "2         GoldenEye (1995)  01-Jan-1995                 NaN   \n",
       "3        Four Rooms (1995)  01-Jan-1995                 NaN   \n",
       "4        Get Shorty (1995)  01-Jan-1995                 NaN   \n",
       "5           Copycat (1995)  01-Jan-1995                 NaN   \n",
       "\n",
       "                                                  IMDb_URL  unknown  Action  \\\n",
       "movieid                                                                       \n",
       "1        http://us.imdb.com/M/title-exact?Toy%20Story%2...        0       0   \n",
       "2        http://us.imdb.com/M/title-exact?GoldenEye%20(...        0       1   \n",
       "3        http://us.imdb.com/M/title-exact?Four%20Rooms%...        0       0   \n",
       "4        http://us.imdb.com/M/title-exact?Get%20Shorty%...        0       1   \n",
       "5        http://us.imdb.com/M/title-exact?Copycat%20(1995)        0       0   \n",
       "\n",
       "         Adventure  Animation  Children  Comedy  Crime  Documentary  Drama  \\\n",
       "movieid                                                                      \n",
       "1                0          1         1       1      0            0      0   \n",
       "2                1          0         0       0      0            0      0   \n",
       "3                0          0         0       0      0            0      0   \n",
       "4                0          0         0       1      0            0      1   \n",
       "5                0          0         0       0      1            0      1   \n",
       "\n",
       "         Fantasy  Film-Noir  Horror  Musical  Mystery  Romance  Sci-Fi  \\\n",
       "movieid                                                                  \n",
       "1              0          0       0        0        0        0       0   \n",
       "2              0          0       0        0        0        0       0   \n",
       "3              0          0       0        0        0        0       0   \n",
       "4              0          0       0        0        0        0       0   \n",
       "5              0          0       0        0        0        0       0   \n",
       "\n",
       "         Thriller  War  Western  \n",
       "movieid                          \n",
       "1               0    0        0  \n",
       "2               1    0        0  \n",
       "3               1    0        0  \n",
       "4               0    0        0  \n",
       "5               1    0        0  "
      ]
     },
     "execution_count": 17,
     "metadata": {},
     "output_type": "execute_result"
    }
   ],
   "source": [
    "info_cols = [ 'movieid', 'title', 'release_date', 'video_release_date', 'IMDb_URL', \\\n",
    "              'unknown', 'Action', 'Adventure', 'Animation', 'Children', 'Comedy', \\\n",
    "              'Crime', 'Documentary', 'Drama', 'Fantasy', 'Film-Noir', 'Horror', \\\n",
    "              'Musical', 'Mystery', 'Romance', 'Sci-Fi', 'Thriller', 'War', 'Western' ]\n",
    "\n",
    "pd.options.display.max_columns = None\n",
    "\n",
    "info_file = pd.read_csv('u.item', sep='|', index_col = 0, names = info_cols, header=None, encoding='latin-1')\n",
    "\n",
    "info_file.head()"
   ]
  },
  {
   "cell_type": "markdown",
   "metadata": {
    "id": "LW3ngD1aXffG"
   },
   "source": [
    "El comando `pd.options.display.max_columns = None` permite que la tabla se pueda mostrar completamente de forma horizontal, es decir, que muestre todas sus columnas."
   ]
  },
  {
   "cell_type": "code",
   "execution_count": 24,
   "metadata": {
    "colab": {
     "base_uri": "https://localhost:8080/"
    },
    "id": "nHxPjm-hXffH",
    "outputId": "9a412f88-a8c2-4066-a1a8-025f9b8fd3bd"
   },
   "outputs": [
    {
     "name": "stdout",
     "output_type": "stream",
     "text": [
      "<class 'pandas.core.frame.DataFrame'>\n",
      "Index: 1682 entries, 1 to 1682\n",
      "Data columns (total 23 columns):\n",
      " #   Column              Non-Null Count  Dtype  \n",
      "---  ------              --------------  -----  \n",
      " 0   title               1682 non-null   object \n",
      " 1   release_date        1681 non-null   object \n",
      " 2   video_release_date  0 non-null      float64\n",
      " 3   IMDb_URL            1679 non-null   object \n",
      " 4   unknown             1682 non-null   int64  \n",
      " 5   Action              1682 non-null   int64  \n",
      " 6   Adventure           1682 non-null   int64  \n",
      " 7   Animation           1682 non-null   int64  \n",
      " 8   Children            1682 non-null   int64  \n",
      " 9   Comedy              1682 non-null   int64  \n",
      " 10  Crime               1682 non-null   int64  \n",
      " 11  Documentary         1682 non-null   int64  \n",
      " 12  Drama               1682 non-null   int64  \n",
      " 13  Fantasy             1682 non-null   int64  \n",
      " 14  Film-Noir           1682 non-null   int64  \n",
      " 15  Horror              1682 non-null   int64  \n",
      " 16  Musical             1682 non-null   int64  \n",
      " 17  Mystery             1682 non-null   int64  \n",
      " 18  Romance             1682 non-null   int64  \n",
      " 19  Sci-Fi              1682 non-null   int64  \n",
      " 20  Thriller            1682 non-null   int64  \n",
      " 21  War                 1682 non-null   int64  \n",
      " 22  Western             1682 non-null   int64  \n",
      "dtypes: float64(1), int64(19), object(3)\n",
      "memory usage: 315.4+ KB\n"
     ]
    }
   ],
   "source": [
    "info_file.info()"
   ]
  },
  {
   "cell_type": "code",
   "execution_count": 25,
   "metadata": {
    "colab": {
     "base_uri": "https://localhost:8080/",
     "height": 320
    },
    "id": "Ktd24wI4XffJ",
    "outputId": "52690c3b-35ea-4345-dee9-ea9febd7da97"
   },
   "outputs": [
    {
     "data": {
      "text/html": [
       "<div>\n",
       "<style scoped>\n",
       "    .dataframe tbody tr th:only-of-type {\n",
       "        vertical-align: middle;\n",
       "    }\n",
       "\n",
       "    .dataframe tbody tr th {\n",
       "        vertical-align: top;\n",
       "    }\n",
       "\n",
       "    .dataframe thead th {\n",
       "        text-align: right;\n",
       "    }\n",
       "</style>\n",
       "<table border=\"1\" class=\"dataframe\">\n",
       "  <thead>\n",
       "    <tr style=\"text-align: right;\">\n",
       "      <th></th>\n",
       "      <th>video_release_date</th>\n",
       "      <th>unknown</th>\n",
       "      <th>Action</th>\n",
       "      <th>Adventure</th>\n",
       "      <th>Animation</th>\n",
       "      <th>Children</th>\n",
       "      <th>Comedy</th>\n",
       "      <th>Crime</th>\n",
       "      <th>Documentary</th>\n",
       "      <th>Drama</th>\n",
       "      <th>Fantasy</th>\n",
       "      <th>Film-Noir</th>\n",
       "      <th>Horror</th>\n",
       "      <th>Musical</th>\n",
       "      <th>Mystery</th>\n",
       "      <th>Romance</th>\n",
       "      <th>Sci-Fi</th>\n",
       "      <th>Thriller</th>\n",
       "      <th>War</th>\n",
       "      <th>Western</th>\n",
       "    </tr>\n",
       "  </thead>\n",
       "  <tbody>\n",
       "    <tr>\n",
       "      <th>count</th>\n",
       "      <td>0.0</td>\n",
       "      <td>1682.000000</td>\n",
       "      <td>1682.000000</td>\n",
       "      <td>1682.000000</td>\n",
       "      <td>1682.000000</td>\n",
       "      <td>1682.000000</td>\n",
       "      <td>1682.000000</td>\n",
       "      <td>1682.000000</td>\n",
       "      <td>1682.000000</td>\n",
       "      <td>1682.000000</td>\n",
       "      <td>1682.00000</td>\n",
       "      <td>1682.000000</td>\n",
       "      <td>1682.000000</td>\n",
       "      <td>1682.000000</td>\n",
       "      <td>1682.000000</td>\n",
       "      <td>1682.000000</td>\n",
       "      <td>1682.000000</td>\n",
       "      <td>1682.000000</td>\n",
       "      <td>1682.000000</td>\n",
       "      <td>1682.000000</td>\n",
       "    </tr>\n",
       "    <tr>\n",
       "      <th>mean</th>\n",
       "      <td>NaN</td>\n",
       "      <td>0.001189</td>\n",
       "      <td>0.149227</td>\n",
       "      <td>0.080262</td>\n",
       "      <td>0.024970</td>\n",
       "      <td>0.072533</td>\n",
       "      <td>0.300238</td>\n",
       "      <td>0.064804</td>\n",
       "      <td>0.029727</td>\n",
       "      <td>0.431034</td>\n",
       "      <td>0.01308</td>\n",
       "      <td>0.014269</td>\n",
       "      <td>0.054697</td>\n",
       "      <td>0.033294</td>\n",
       "      <td>0.036266</td>\n",
       "      <td>0.146849</td>\n",
       "      <td>0.060048</td>\n",
       "      <td>0.149227</td>\n",
       "      <td>0.042212</td>\n",
       "      <td>0.016052</td>\n",
       "    </tr>\n",
       "    <tr>\n",
       "      <th>std</th>\n",
       "      <td>NaN</td>\n",
       "      <td>0.034473</td>\n",
       "      <td>0.356418</td>\n",
       "      <td>0.271779</td>\n",
       "      <td>0.156081</td>\n",
       "      <td>0.259445</td>\n",
       "      <td>0.458498</td>\n",
       "      <td>0.246253</td>\n",
       "      <td>0.169882</td>\n",
       "      <td>0.495368</td>\n",
       "      <td>0.11365</td>\n",
       "      <td>0.118632</td>\n",
       "      <td>0.227455</td>\n",
       "      <td>0.179456</td>\n",
       "      <td>0.187008</td>\n",
       "      <td>0.354061</td>\n",
       "      <td>0.237646</td>\n",
       "      <td>0.356418</td>\n",
       "      <td>0.201131</td>\n",
       "      <td>0.125714</td>\n",
       "    </tr>\n",
       "    <tr>\n",
       "      <th>min</th>\n",
       "      <td>NaN</td>\n",
       "      <td>0.000000</td>\n",
       "      <td>0.000000</td>\n",
       "      <td>0.000000</td>\n",
       "      <td>0.000000</td>\n",
       "      <td>0.000000</td>\n",
       "      <td>0.000000</td>\n",
       "      <td>0.000000</td>\n",
       "      <td>0.000000</td>\n",
       "      <td>0.000000</td>\n",
       "      <td>0.00000</td>\n",
       "      <td>0.000000</td>\n",
       "      <td>0.000000</td>\n",
       "      <td>0.000000</td>\n",
       "      <td>0.000000</td>\n",
       "      <td>0.000000</td>\n",
       "      <td>0.000000</td>\n",
       "      <td>0.000000</td>\n",
       "      <td>0.000000</td>\n",
       "      <td>0.000000</td>\n",
       "    </tr>\n",
       "    <tr>\n",
       "      <th>25%</th>\n",
       "      <td>NaN</td>\n",
       "      <td>0.000000</td>\n",
       "      <td>0.000000</td>\n",
       "      <td>0.000000</td>\n",
       "      <td>0.000000</td>\n",
       "      <td>0.000000</td>\n",
       "      <td>0.000000</td>\n",
       "      <td>0.000000</td>\n",
       "      <td>0.000000</td>\n",
       "      <td>0.000000</td>\n",
       "      <td>0.00000</td>\n",
       "      <td>0.000000</td>\n",
       "      <td>0.000000</td>\n",
       "      <td>0.000000</td>\n",
       "      <td>0.000000</td>\n",
       "      <td>0.000000</td>\n",
       "      <td>0.000000</td>\n",
       "      <td>0.000000</td>\n",
       "      <td>0.000000</td>\n",
       "      <td>0.000000</td>\n",
       "    </tr>\n",
       "    <tr>\n",
       "      <th>50%</th>\n",
       "      <td>NaN</td>\n",
       "      <td>0.000000</td>\n",
       "      <td>0.000000</td>\n",
       "      <td>0.000000</td>\n",
       "      <td>0.000000</td>\n",
       "      <td>0.000000</td>\n",
       "      <td>0.000000</td>\n",
       "      <td>0.000000</td>\n",
       "      <td>0.000000</td>\n",
       "      <td>0.000000</td>\n",
       "      <td>0.00000</td>\n",
       "      <td>0.000000</td>\n",
       "      <td>0.000000</td>\n",
       "      <td>0.000000</td>\n",
       "      <td>0.000000</td>\n",
       "      <td>0.000000</td>\n",
       "      <td>0.000000</td>\n",
       "      <td>0.000000</td>\n",
       "      <td>0.000000</td>\n",
       "      <td>0.000000</td>\n",
       "    </tr>\n",
       "    <tr>\n",
       "      <th>75%</th>\n",
       "      <td>NaN</td>\n",
       "      <td>0.000000</td>\n",
       "      <td>0.000000</td>\n",
       "      <td>0.000000</td>\n",
       "      <td>0.000000</td>\n",
       "      <td>0.000000</td>\n",
       "      <td>1.000000</td>\n",
       "      <td>0.000000</td>\n",
       "      <td>0.000000</td>\n",
       "      <td>1.000000</td>\n",
       "      <td>0.00000</td>\n",
       "      <td>0.000000</td>\n",
       "      <td>0.000000</td>\n",
       "      <td>0.000000</td>\n",
       "      <td>0.000000</td>\n",
       "      <td>0.000000</td>\n",
       "      <td>0.000000</td>\n",
       "      <td>0.000000</td>\n",
       "      <td>0.000000</td>\n",
       "      <td>0.000000</td>\n",
       "    </tr>\n",
       "    <tr>\n",
       "      <th>max</th>\n",
       "      <td>NaN</td>\n",
       "      <td>1.000000</td>\n",
       "      <td>1.000000</td>\n",
       "      <td>1.000000</td>\n",
       "      <td>1.000000</td>\n",
       "      <td>1.000000</td>\n",
       "      <td>1.000000</td>\n",
       "      <td>1.000000</td>\n",
       "      <td>1.000000</td>\n",
       "      <td>1.000000</td>\n",
       "      <td>1.00000</td>\n",
       "      <td>1.000000</td>\n",
       "      <td>1.000000</td>\n",
       "      <td>1.000000</td>\n",
       "      <td>1.000000</td>\n",
       "      <td>1.000000</td>\n",
       "      <td>1.000000</td>\n",
       "      <td>1.000000</td>\n",
       "      <td>1.000000</td>\n",
       "      <td>1.000000</td>\n",
       "    </tr>\n",
       "  </tbody>\n",
       "</table>\n",
       "</div>"
      ],
      "text/plain": [
       "       video_release_date      unknown       Action    Adventure    Animation  \\\n",
       "count                 0.0  1682.000000  1682.000000  1682.000000  1682.000000   \n",
       "mean                  NaN     0.001189     0.149227     0.080262     0.024970   \n",
       "std                   NaN     0.034473     0.356418     0.271779     0.156081   \n",
       "min                   NaN     0.000000     0.000000     0.000000     0.000000   \n",
       "25%                   NaN     0.000000     0.000000     0.000000     0.000000   \n",
       "50%                   NaN     0.000000     0.000000     0.000000     0.000000   \n",
       "75%                   NaN     0.000000     0.000000     0.000000     0.000000   \n",
       "max                   NaN     1.000000     1.000000     1.000000     1.000000   \n",
       "\n",
       "          Children       Comedy        Crime  Documentary        Drama  \\\n",
       "count  1682.000000  1682.000000  1682.000000  1682.000000  1682.000000   \n",
       "mean      0.072533     0.300238     0.064804     0.029727     0.431034   \n",
       "std       0.259445     0.458498     0.246253     0.169882     0.495368   \n",
       "min       0.000000     0.000000     0.000000     0.000000     0.000000   \n",
       "25%       0.000000     0.000000     0.000000     0.000000     0.000000   \n",
       "50%       0.000000     0.000000     0.000000     0.000000     0.000000   \n",
       "75%       0.000000     1.000000     0.000000     0.000000     1.000000   \n",
       "max       1.000000     1.000000     1.000000     1.000000     1.000000   \n",
       "\n",
       "          Fantasy    Film-Noir       Horror      Musical      Mystery  \\\n",
       "count  1682.00000  1682.000000  1682.000000  1682.000000  1682.000000   \n",
       "mean      0.01308     0.014269     0.054697     0.033294     0.036266   \n",
       "std       0.11365     0.118632     0.227455     0.179456     0.187008   \n",
       "min       0.00000     0.000000     0.000000     0.000000     0.000000   \n",
       "25%       0.00000     0.000000     0.000000     0.000000     0.000000   \n",
       "50%       0.00000     0.000000     0.000000     0.000000     0.000000   \n",
       "75%       0.00000     0.000000     0.000000     0.000000     0.000000   \n",
       "max       1.00000     1.000000     1.000000     1.000000     1.000000   \n",
       "\n",
       "           Romance       Sci-Fi     Thriller          War      Western  \n",
       "count  1682.000000  1682.000000  1682.000000  1682.000000  1682.000000  \n",
       "mean      0.146849     0.060048     0.149227     0.042212     0.016052  \n",
       "std       0.354061     0.237646     0.356418     0.201131     0.125714  \n",
       "min       0.000000     0.000000     0.000000     0.000000     0.000000  \n",
       "25%       0.000000     0.000000     0.000000     0.000000     0.000000  \n",
       "50%       0.000000     0.000000     0.000000     0.000000     0.000000  \n",
       "75%       0.000000     0.000000     0.000000     0.000000     0.000000  \n",
       "max       1.000000     1.000000     1.000000     1.000000     1.000000  "
      ]
     },
     "execution_count": 25,
     "metadata": {},
     "output_type": "execute_result"
    }
   ],
   "source": [
    "info_file.describe()"
   ]
  },
  {
   "cell_type": "markdown",
   "metadata": {
    "id": "X4Gm60h1XffL"
   },
   "source": [
    "Con las funciones `info` y `describe` de ***pandas*** es una buena forma de analizar a grandes rasgos un dataset."
   ]
  },
  {
   "cell_type": "markdown",
   "metadata": {
    "id": "jqXxj773Foo8"
   },
   "source": [
    "## Como ver la información de una o más películas\n",
    "Para esto se hace 2 pasos,\n",
    "1. Determinar los índices de las películas\n",
    "2. Pedir a `info_file` las columnas\n",
    "3. (adicional) Indicar alguna columna en específico"
   ]
  },
  {
   "cell_type": "code",
   "execution_count": 26,
   "metadata": {
    "colab": {
     "base_uri": "https://localhost:8080/",
     "height": 316
    },
    "id": "3JsjHzBFGqQI",
    "outputId": "3c10f6c9-382e-4298-dc46-0717989de596"
   },
   "outputs": [
    {
     "data": {
      "text/html": [
       "<div>\n",
       "<style scoped>\n",
       "    .dataframe tbody tr th:only-of-type {\n",
       "        vertical-align: middle;\n",
       "    }\n",
       "\n",
       "    .dataframe tbody tr th {\n",
       "        vertical-align: top;\n",
       "    }\n",
       "\n",
       "    .dataframe thead th {\n",
       "        text-align: right;\n",
       "    }\n",
       "</style>\n",
       "<table border=\"1\" class=\"dataframe\">\n",
       "  <thead>\n",
       "    <tr style=\"text-align: right;\">\n",
       "      <th></th>\n",
       "      <th>title</th>\n",
       "      <th>release_date</th>\n",
       "      <th>video_release_date</th>\n",
       "      <th>IMDb_URL</th>\n",
       "      <th>unknown</th>\n",
       "      <th>Action</th>\n",
       "      <th>Adventure</th>\n",
       "      <th>Animation</th>\n",
       "      <th>Children</th>\n",
       "      <th>Comedy</th>\n",
       "      <th>Crime</th>\n",
       "      <th>Documentary</th>\n",
       "      <th>Drama</th>\n",
       "      <th>Fantasy</th>\n",
       "      <th>Film-Noir</th>\n",
       "      <th>Horror</th>\n",
       "      <th>Musical</th>\n",
       "      <th>Mystery</th>\n",
       "      <th>Romance</th>\n",
       "      <th>Sci-Fi</th>\n",
       "      <th>Thriller</th>\n",
       "      <th>War</th>\n",
       "      <th>Western</th>\n",
       "    </tr>\n",
       "    <tr>\n",
       "      <th>movieid</th>\n",
       "      <th></th>\n",
       "      <th></th>\n",
       "      <th></th>\n",
       "      <th></th>\n",
       "      <th></th>\n",
       "      <th></th>\n",
       "      <th></th>\n",
       "      <th></th>\n",
       "      <th></th>\n",
       "      <th></th>\n",
       "      <th></th>\n",
       "      <th></th>\n",
       "      <th></th>\n",
       "      <th></th>\n",
       "      <th></th>\n",
       "      <th></th>\n",
       "      <th></th>\n",
       "      <th></th>\n",
       "      <th></th>\n",
       "      <th></th>\n",
       "      <th></th>\n",
       "      <th></th>\n",
       "      <th></th>\n",
       "    </tr>\n",
       "  </thead>\n",
       "  <tbody>\n",
       "    <tr>\n",
       "      <th>5</th>\n",
       "      <td>Copycat (1995)</td>\n",
       "      <td>01-Jan-1995</td>\n",
       "      <td>NaN</td>\n",
       "      <td>http://us.imdb.com/M/title-exact?Copycat%20(1995)</td>\n",
       "      <td>0</td>\n",
       "      <td>0</td>\n",
       "      <td>0</td>\n",
       "      <td>0</td>\n",
       "      <td>0</td>\n",
       "      <td>0</td>\n",
       "      <td>1</td>\n",
       "      <td>0</td>\n",
       "      <td>1</td>\n",
       "      <td>0</td>\n",
       "      <td>0</td>\n",
       "      <td>0</td>\n",
       "      <td>0</td>\n",
       "      <td>0</td>\n",
       "      <td>0</td>\n",
       "      <td>0</td>\n",
       "      <td>1</td>\n",
       "      <td>0</td>\n",
       "      <td>0</td>\n",
       "    </tr>\n",
       "    <tr>\n",
       "      <th>4</th>\n",
       "      <td>Get Shorty (1995)</td>\n",
       "      <td>01-Jan-1995</td>\n",
       "      <td>NaN</td>\n",
       "      <td>http://us.imdb.com/M/title-exact?Get%20Shorty%...</td>\n",
       "      <td>0</td>\n",
       "      <td>1</td>\n",
       "      <td>0</td>\n",
       "      <td>0</td>\n",
       "      <td>0</td>\n",
       "      <td>1</td>\n",
       "      <td>0</td>\n",
       "      <td>0</td>\n",
       "      <td>1</td>\n",
       "      <td>0</td>\n",
       "      <td>0</td>\n",
       "      <td>0</td>\n",
       "      <td>0</td>\n",
       "      <td>0</td>\n",
       "      <td>0</td>\n",
       "      <td>0</td>\n",
       "      <td>0</td>\n",
       "      <td>0</td>\n",
       "      <td>0</td>\n",
       "    </tr>\n",
       "    <tr>\n",
       "      <th>1</th>\n",
       "      <td>Toy Story (1995)</td>\n",
       "      <td>01-Jan-1995</td>\n",
       "      <td>NaN</td>\n",
       "      <td>http://us.imdb.com/M/title-exact?Toy%20Story%2...</td>\n",
       "      <td>0</td>\n",
       "      <td>0</td>\n",
       "      <td>0</td>\n",
       "      <td>1</td>\n",
       "      <td>1</td>\n",
       "      <td>1</td>\n",
       "      <td>0</td>\n",
       "      <td>0</td>\n",
       "      <td>0</td>\n",
       "      <td>0</td>\n",
       "      <td>0</td>\n",
       "      <td>0</td>\n",
       "      <td>0</td>\n",
       "      <td>0</td>\n",
       "      <td>0</td>\n",
       "      <td>0</td>\n",
       "      <td>0</td>\n",
       "      <td>0</td>\n",
       "      <td>0</td>\n",
       "    </tr>\n",
       "  </tbody>\n",
       "</table>\n",
       "</div>"
      ],
      "text/plain": [
       "                     title release_date  video_release_date  \\\n",
       "movieid                                                       \n",
       "5           Copycat (1995)  01-Jan-1995                 NaN   \n",
       "4        Get Shorty (1995)  01-Jan-1995                 NaN   \n",
       "1         Toy Story (1995)  01-Jan-1995                 NaN   \n",
       "\n",
       "                                                  IMDb_URL  unknown  Action  \\\n",
       "movieid                                                                       \n",
       "5        http://us.imdb.com/M/title-exact?Copycat%20(1995)        0       0   \n",
       "4        http://us.imdb.com/M/title-exact?Get%20Shorty%...        0       1   \n",
       "1        http://us.imdb.com/M/title-exact?Toy%20Story%2...        0       0   \n",
       "\n",
       "         Adventure  Animation  Children  Comedy  Crime  Documentary  Drama  \\\n",
       "movieid                                                                      \n",
       "5                0          0         0       0      1            0      1   \n",
       "4                0          0         0       1      0            0      1   \n",
       "1                0          1         1       1      0            0      0   \n",
       "\n",
       "         Fantasy  Film-Noir  Horror  Musical  Mystery  Romance  Sci-Fi  \\\n",
       "movieid                                                                  \n",
       "5              0          0       0        0        0        0       0   \n",
       "4              0          0       0        0        0        0       0   \n",
       "1              0          0       0        0        0        0       0   \n",
       "\n",
       "         Thriller  War  Western  \n",
       "movieid                          \n",
       "5               1    0        0  \n",
       "4               0    0        0  \n",
       "1               0    0        0  "
      ]
     },
     "execution_count": 26,
     "metadata": {},
     "output_type": "execute_result"
    }
   ],
   "source": [
    "# Ejemplo de cómo visualizar titulos de peliculas en base a sus IDs\n",
    "\n",
    "# Paso 1\n",
    "pelis = [5,4,1]\n",
    "# Paso 2\n",
    "info_file.loc[pelis]"
   ]
  },
  {
   "cell_type": "markdown",
   "metadata": {
    "id": "2YDbWo18GwAT"
   },
   "source": [
    "Para éste código:\n",
    "1. `pelis = [5,4,1]` indica que queremos las películas cuyo índice son 5, 4 y 1\n",
    "2. `info_file.loc[pelis]` el método `loc` permite acceder a esas columna\n",
    "A continuación se verá como obtener una columna en específico. Para esto solo es necesario agregar corchetes y el nombre de la columna"
   ]
  },
  {
   "cell_type": "code",
   "execution_count": 13,
   "metadata": {
    "colab": {
     "base_uri": "https://localhost:8080/",
     "height": 209
    },
    "id": "gZZ3g-n7G9EY",
    "outputId": "07109fed-9643-406a-bc18-7d9b3547626a"
   },
   "outputs": [
    {
     "data": {
      "text/html": [
       "<div>\n",
       "<style scoped>\n",
       "    .dataframe tbody tr th:only-of-type {\n",
       "        vertical-align: middle;\n",
       "    }\n",
       "\n",
       "    .dataframe tbody tr th {\n",
       "        vertical-align: top;\n",
       "    }\n",
       "\n",
       "    .dataframe thead th {\n",
       "        text-align: right;\n",
       "    }\n",
       "</style>\n",
       "<table border=\"1\" class=\"dataframe\">\n",
       "  <thead>\n",
       "    <tr style=\"text-align: right;\">\n",
       "      <th></th>\n",
       "      <th>title</th>\n",
       "    </tr>\n",
       "    <tr>\n",
       "      <th>movieid</th>\n",
       "      <th></th>\n",
       "    </tr>\n",
       "  </thead>\n",
       "  <tbody>\n",
       "    <tr>\n",
       "      <th>5</th>\n",
       "      <td>Copycat (1995)</td>\n",
       "    </tr>\n",
       "    <tr>\n",
       "      <th>4</th>\n",
       "      <td>Get Shorty (1995)</td>\n",
       "    </tr>\n",
       "    <tr>\n",
       "      <th>1</th>\n",
       "      <td>Toy Story (1995)</td>\n",
       "    </tr>\n",
       "  </tbody>\n",
       "</table>\n",
       "</div><br><label><b>dtype:</b> object</label>"
      ],
      "text/plain": [
       "movieid\n",
       "5       Copycat (1995)\n",
       "4    Get Shorty (1995)\n",
       "1     Toy Story (1995)\n",
       "Name: title, dtype: object"
      ]
     },
     "execution_count": 13,
     "metadata": {},
     "output_type": "execute_result"
    }
   ],
   "source": [
    "# Paso 3, acceder solo a columnas específicas\n",
    "info_file.loc[pelis]['title']"
   ]
  },
  {
   "cell_type": "markdown",
   "metadata": {
    "id": "P3K5VPZoGSYX"
   },
   "source": [
    "## Preparar entorno\n",
    "Primero es necesario instalar una librería para realizar recomendaciones. Esta se llama [***Surprise***](https://github.com/NicolasHug/Surprise)"
   ]
  },
  {
   "cell_type": "code",
   "execution_count": null,
   "metadata": {
    "colab": {
     "base_uri": "https://localhost:8080/"
    },
    "id": "nbtrMHvG6uIt",
    "outputId": "c4d375d3-a188-418a-ab4f-0c3bb29c3769"
   },
   "outputs": [],
   "source": [
    "!pip install scikit-surprise --no-build-isolation --no-deps"
   ]
  },
  {
   "cell_type": "markdown",
   "metadata": {
    "id": "8xjAMaNz-4dO"
   },
   "source": [
    "Luego necesitamos importar Surprise y numpy, librerías que utilizaremos en este práctico"
   ]
  },
  {
   "cell_type": "code",
   "execution_count": null,
   "metadata": {
    "id": "nv7g1e_i6wBY"
   },
   "outputs": [],
   "source": [
    "import surprise\n",
    "import numpy as np\n",
    "from collections import defaultdict"
   ]
  },
  {
   "cell_type": "markdown",
   "metadata": {
    "id": "2e0ZeZXzMhU3"
   },
   "source": [
    "## UserKNN\n",
    "\n",
    "Probar método de recomendación basado en ***UserKNN***"
   ]
  },
  {
   "cell_type": "markdown",
   "metadata": {
    "id": "OUf74KsDM9Z0"
   },
   "source": [
    "Antes de generar el recomendador, hay que convertir los datos a un formato que sea soportado por la librería Surprise. Para esto, utilizamos la función Reader que convierte una base de datos de un archivo al formato deseado."
   ]
  },
  {
   "cell_type": "code",
   "execution_count": null,
   "metadata": {
    "id": "ePh4orfJNe12"
   },
   "outputs": [],
   "source": [
    "from surprise.model_selection import PredefinedKFold\n",
    "reader = surprise.Reader(line_format='user item rating timestamp', sep='\\t', rating_scale=(1,5))\n",
    "data = surprise.Dataset.load_from_folds([(\"u1.base\", \"u1.test\")], reader=reader)\n",
    "pkf = PredefinedKFold()\n",
    "trainset, testset = next(pkf.split(data))"
   ]
  },
  {
   "cell_type": "markdown",
   "metadata": {
    "id": "0GDTGMWENkQ8"
   },
   "source": [
    "Se puede ver que al objeto Reader le estamos entregando:\n",
    "* ***line_format:*** El orden de las columnas que representan cada elemento del dataset (debe tener el formato que se muestra y estar separadas por espacios).\n",
    "* ***sep:*** El delimitador del archivo, en este caso las columnas estan separadas por un tab (\\t)\n",
    "* ***rating_scale:*** La escala usada en los ratings (en este caso los ratings van del $1$ al $5$)"
   ]
  },
  {
   "cell_type": "markdown",
   "metadata": {
    "id": "DgzvLQunO13c"
   },
   "source": [
    "Luego, usamos el módulo Dataset de Surprise para usar el objeto Reader para leer los datos de un archivo. En este caso, ya que tenemos el set de entrenamiento y testeo en archivos separados, usamos la función ***load_from_folds*** que recibe una lista de tuplas con los nombres de los archivos de entrenamiento y testeo. Existen también funciones que permiten leer todos los items de un solo archivo, cargar datasets predefinidos o importarlos desde un dataframe de Pandas. Pueden leer estas aplicaciones en la [_documentación_](https://surprise.readthedocs.io/en/stable/dataset.html#surprise.dataset.Dataset.load_builtin).\n",
    "\n",
    "Finalmente, la función ***pkf.split*** entrega un generador que itera sobre los archivos de entrenamiento y testeo que definimos en la lista que le entregamos a ***load_from_folds***. En este caso, como solo contamos con un archivo de entrenamiento y uno de testeo, invocamos la función ***next*** para definir los datasets como el primer output del generador."
   ]
  },
  {
   "cell_type": "markdown",
   "metadata": {
    "id": "KtIh8S9JQCUv"
   },
   "source": [
    "Finalmente declaramos el objeto recomendador que vamos a usar:"
   ]
  },
  {
   "cell_type": "code",
   "execution_count": 4,
   "metadata": {
    "id": "ONuL2UkwaqPH"
   },
   "outputs": [],
   "source": [
    "# Declarar el objeto recomendador UserKnn\n",
    "from surprise import accuracy\n",
    "myUserKnn = surprise.KNNBasic(k=7, sim_options={'name': 'pearson', 'user_based': True})"
   ]
  },
  {
   "cell_type": "markdown",
   "metadata": {
    "id": "yA1wZymAZtjR"
   },
   "source": [
    "Se puede ver que al objeto recomendador le estamos entregando:\n",
    "* ***k***: La cantidad de vecinos que se considerarán.\n",
    "* ***sim_options:*** Diccionario que contiene los detalles de la función de similaridad que se usará. Dentro de este, definimos:\n",
    "  * ***name:*** La función de similitud. Puede ser Pearson, Cosine, etc.\n",
    "  * ***user_based:*** Booleano que define si el método será basado en usuarios o items."
   ]
  },
  {
   "cell_type": "code",
   "execution_count": 5,
   "metadata": {
    "colab": {
     "base_uri": "https://localhost:8080/"
    },
    "id": "uhjC9eRYaqPK",
    "outputId": "96e70771-7576-4eeb-d147-9082094e2a81"
   },
   "outputs": [
    {
     "name": "stdout",
     "output_type": "stream",
     "text": [
      "Computing the pearson similarity matrix...\n",
      "Done computing similarity matrix.\n"
     ]
    },
    {
     "data": {
      "text/plain": [
       "<surprise.prediction_algorithms.knns.KNNBasic at 0x10f873e80>"
      ]
     },
     "execution_count": 5,
     "metadata": {},
     "output_type": "execute_result"
    }
   ],
   "source": [
    "# Entrenamos el modelo con los datos existentes usando la función fit del objeto recomendador.\n",
    "\n",
    "myUserKnn.fit(trainset)"
   ]
  },
  {
   "cell_type": "markdown",
   "metadata": {
    "id": "lEx2TVc1B5wk"
   },
   "source": [
    "## Predecir el rating que le dará un usuario a un cierto item"
   ]
  },
  {
   "cell_type": "markdown",
   "metadata": {
    "id": "I-iqQvAdTTCP"
   },
   "source": [
    "Según el modelo de recomendación UserKnn, qué rating le dará el usuario 457 al item 37?\n",
    "\n"
   ]
  },
  {
   "cell_type": "code",
   "execution_count": 8,
   "metadata": {
    "colab": {
     "base_uri": "https://localhost:8080/"
    },
    "id": "rGrmht_6JfFG",
    "outputId": "c21e93c4-b4eb-44ed-a3f2-b24f22feb57b"
   },
   "outputs": [
    {
     "data": {
      "text/plain": [
       "Prediction(uid='457', iid='37', r_ui=None, est=2.4420114287810444, details={'actual_k': 6, 'was_impossible': False})"
      ]
     },
     "execution_count": 8,
     "metadata": {},
     "output_type": "execute_result"
    }
   ],
   "source": [
    "myUserKnn.predict(\"457\", \"37\")"
   ]
  },
  {
   "cell_type": "markdown",
   "metadata": {
    "id": "dIVXNsQ8CCJV"
   },
   "source": [
    "## Generar una lista de recomendaciones para un usuario"
   ]
  },
  {
   "cell_type": "markdown",
   "metadata": {
    "id": "Wp-2JLSBJhPv"
   },
   "source": [
    "Generar lista de 10 recomendaciones para el usuario con ID 457. Indique qué películas son con todas sus columnas. (Recuerde el comando `loc` vista anteriormete)"
   ]
  },
  {
   "cell_type": "markdown",
   "metadata": {
    "id": "0iOjLv3-FJNv"
   },
   "source": [
    "Para obtener las predicciones de una lista de elementos, se debe llamar a la función ***.test()*** de el objeto recomendador. Sin embargo, esta función solo recibe objetos del tipo testset de la misma librería.\n",
    "\n",
    "Para esto, se usa la función ***.build_anti_testset()*** a partir de un objeto trainset que entrega un objeto ***testset*** con todos los pares usuario-item que no tengan un valor fijado en el trainset."
   ]
  },
  {
   "cell_type": "code",
   "execution_count": 9,
   "metadata": {
    "id": "xgco7a1tFHaY"
   },
   "outputs": [],
   "source": [
    "a_testset = trainset.build_anti_testset()\n",
    "predictions = myUserKnn.test(a_testset)"
   ]
  },
  {
   "cell_type": "markdown",
   "metadata": {
    "id": "zb-sXkn7GRMd"
   },
   "source": [
    "Luego, usamos la función ***get_top_n*** sugerida en la [documentación](https://surprise.readthedocs.io/en/stable/FAQ.html) la cual recibe todas las predicciones para cada item-usuario desconocido (que tenemos guardado en la variable ***predictions***) y retorna un diccionario que recibe de llave el *id* de un usuario y retorna una lista de tuplas con el id de los items recomendados y su rating predicho."
   ]
  },
  {
   "cell_type": "code",
   "execution_count": 10,
   "metadata": {
    "id": "2td2vyiRvPdL"
   },
   "outputs": [],
   "source": [
    "def get_top_n(predictions, n=10):\n",
    "    \"\"\"Devuelve las N-mejores recomendaciones para cada usuario de un set de predicción.\n",
    "\n",
    "    Args:\n",
    "        predictions(lista de objetos Prediction): La lista de predicción obtenida del método test.\n",
    "        n(int): El número de recomendaciónes por usuario\n",
    "\n",
    "    Returns:\n",
    "    Un diccionario donde las llaves son ids de usuario y los valores son listas de tuplas:\n",
    "        [(item id, rating estimation), ...] de tamaño n.\n",
    "    \"\"\"\n",
    "\n",
    "    # First map the predictions to each user.\n",
    "    top_n = defaultdict(list)\n",
    "    for uid, iid, true_r, est, _ in predictions:\n",
    "        top_n[uid].append((iid, est))\n",
    "\n",
    "    # Then sort the predictions for each user and retrieve the k highest ones.\n",
    "    for uid, user_ratings in top_n.items():\n",
    "        user_ratings.sort(key=lambda x: x[1], reverse=True)\n",
    "        top_n[uid] = user_ratings[:n]\n",
    "\n",
    "    return top_n"
   ]
  },
  {
   "cell_type": "code",
   "execution_count": 11,
   "metadata": {
    "colab": {
     "base_uri": "https://localhost:8080/"
    },
    "id": "otr7zq1jaqPR",
    "outputId": "6ca9c34a-8a1d-4fc9-a1a7-87a31b74d4e4"
   },
   "outputs": [
    {
     "name": "stdout",
     "output_type": "stream",
     "text": [
      "[('1122', 5), ('1201', 5), ('1293', 5), ('1467', 5), ('1347', 5), ('1599', 5), ('1653', 5), ('1656', 5), ('1500', 5), ('1189', 4.999999999999999)]\n"
     ]
    }
   ],
   "source": [
    "top_n = get_top_n(predictions, n=10)\n",
    "print(top_n[\"457\"])"
   ]
  },
  {
   "cell_type": "code",
   "execution_count": 18,
   "metadata": {
    "colab": {
     "base_uri": "https://localhost:8080/",
     "height": 882
    },
    "id": "MIDZpLd-5EsQ",
    "outputId": "d92e26a6-7773-424c-a160-ca6f196b6d16"
   },
   "outputs": [
    {
     "data": {
      "text/html": [
       "<div>\n",
       "<style scoped>\n",
       "    .dataframe tbody tr th:only-of-type {\n",
       "        vertical-align: middle;\n",
       "    }\n",
       "\n",
       "    .dataframe tbody tr th {\n",
       "        vertical-align: top;\n",
       "    }\n",
       "\n",
       "    .dataframe thead th {\n",
       "        text-align: right;\n",
       "    }\n",
       "</style>\n",
       "<table border=\"1\" class=\"dataframe\">\n",
       "  <thead>\n",
       "    <tr style=\"text-align: right;\">\n",
       "      <th></th>\n",
       "      <th>title</th>\n",
       "      <th>release_date</th>\n",
       "      <th>video_release_date</th>\n",
       "      <th>IMDb_URL</th>\n",
       "      <th>unknown</th>\n",
       "      <th>Action</th>\n",
       "      <th>Adventure</th>\n",
       "      <th>Animation</th>\n",
       "      <th>Children</th>\n",
       "      <th>Comedy</th>\n",
       "      <th>Crime</th>\n",
       "      <th>Documentary</th>\n",
       "      <th>Drama</th>\n",
       "      <th>Fantasy</th>\n",
       "      <th>Film-Noir</th>\n",
       "      <th>Horror</th>\n",
       "      <th>Musical</th>\n",
       "      <th>Mystery</th>\n",
       "      <th>Romance</th>\n",
       "      <th>Sci-Fi</th>\n",
       "      <th>Thriller</th>\n",
       "      <th>War</th>\n",
       "      <th>Western</th>\n",
       "    </tr>\n",
       "    <tr>\n",
       "      <th>movieid</th>\n",
       "      <th></th>\n",
       "      <th></th>\n",
       "      <th></th>\n",
       "      <th></th>\n",
       "      <th></th>\n",
       "      <th></th>\n",
       "      <th></th>\n",
       "      <th></th>\n",
       "      <th></th>\n",
       "      <th></th>\n",
       "      <th></th>\n",
       "      <th></th>\n",
       "      <th></th>\n",
       "      <th></th>\n",
       "      <th></th>\n",
       "      <th></th>\n",
       "      <th></th>\n",
       "      <th></th>\n",
       "      <th></th>\n",
       "      <th></th>\n",
       "      <th></th>\n",
       "      <th></th>\n",
       "      <th></th>\n",
       "    </tr>\n",
       "  </thead>\n",
       "  <tbody>\n",
       "    <tr>\n",
       "      <th>1122</th>\n",
       "      <td>They Made Me a Criminal (1939)</td>\n",
       "      <td>01-Jan-1939</td>\n",
       "      <td>NaN</td>\n",
       "      <td>http://us.imdb.com/M/title-exact?They%20Made%2...</td>\n",
       "      <td>0</td>\n",
       "      <td>0</td>\n",
       "      <td>0</td>\n",
       "      <td>0</td>\n",
       "      <td>0</td>\n",
       "      <td>0</td>\n",
       "      <td>1</td>\n",
       "      <td>0</td>\n",
       "      <td>1</td>\n",
       "      <td>0</td>\n",
       "      <td>0</td>\n",
       "      <td>0</td>\n",
       "      <td>0</td>\n",
       "      <td>0</td>\n",
       "      <td>0</td>\n",
       "      <td>0</td>\n",
       "      <td>0</td>\n",
       "      <td>0</td>\n",
       "      <td>0</td>\n",
       "    </tr>\n",
       "    <tr>\n",
       "      <th>1201</th>\n",
       "      <td>Marlene Dietrich: Shadow and Light (1996)</td>\n",
       "      <td>02-Apr-1996</td>\n",
       "      <td>NaN</td>\n",
       "      <td>http://us.imdb.com/M/title-exact?Marlene%20Die...</td>\n",
       "      <td>0</td>\n",
       "      <td>0</td>\n",
       "      <td>0</td>\n",
       "      <td>0</td>\n",
       "      <td>0</td>\n",
       "      <td>0</td>\n",
       "      <td>0</td>\n",
       "      <td>1</td>\n",
       "      <td>0</td>\n",
       "      <td>0</td>\n",
       "      <td>0</td>\n",
       "      <td>0</td>\n",
       "      <td>0</td>\n",
       "      <td>0</td>\n",
       "      <td>0</td>\n",
       "      <td>0</td>\n",
       "      <td>0</td>\n",
       "      <td>0</td>\n",
       "      <td>0</td>\n",
       "    </tr>\n",
       "    <tr>\n",
       "      <th>1293</th>\n",
       "      <td>Star Kid (1997)</td>\n",
       "      <td>16-Jan-1998</td>\n",
       "      <td>NaN</td>\n",
       "      <td>http://us.imdb.com/M/title-exact?imdb-title-12...</td>\n",
       "      <td>0</td>\n",
       "      <td>0</td>\n",
       "      <td>1</td>\n",
       "      <td>0</td>\n",
       "      <td>1</td>\n",
       "      <td>0</td>\n",
       "      <td>0</td>\n",
       "      <td>0</td>\n",
       "      <td>0</td>\n",
       "      <td>1</td>\n",
       "      <td>0</td>\n",
       "      <td>0</td>\n",
       "      <td>0</td>\n",
       "      <td>0</td>\n",
       "      <td>0</td>\n",
       "      <td>1</td>\n",
       "      <td>0</td>\n",
       "      <td>0</td>\n",
       "      <td>0</td>\n",
       "    </tr>\n",
       "    <tr>\n",
       "      <th>1467</th>\n",
       "      <td>Saint of Fort Washington, The (1993)</td>\n",
       "      <td>01-Jan-1993</td>\n",
       "      <td>NaN</td>\n",
       "      <td>http://us.imdb.com/M/title-exact?Saint%20of%20...</td>\n",
       "      <td>0</td>\n",
       "      <td>0</td>\n",
       "      <td>0</td>\n",
       "      <td>0</td>\n",
       "      <td>0</td>\n",
       "      <td>0</td>\n",
       "      <td>0</td>\n",
       "      <td>0</td>\n",
       "      <td>1</td>\n",
       "      <td>0</td>\n",
       "      <td>0</td>\n",
       "      <td>0</td>\n",
       "      <td>0</td>\n",
       "      <td>0</td>\n",
       "      <td>0</td>\n",
       "      <td>0</td>\n",
       "      <td>0</td>\n",
       "      <td>0</td>\n",
       "      <td>0</td>\n",
       "    </tr>\n",
       "    <tr>\n",
       "      <th>1347</th>\n",
       "      <td>Ballad of Narayama, The (Narayama Bushiko) (1958)</td>\n",
       "      <td>01-Jan-1958</td>\n",
       "      <td>NaN</td>\n",
       "      <td>http://us.imdb.com/M/title-exact?Narayama%20Bu...</td>\n",
       "      <td>0</td>\n",
       "      <td>0</td>\n",
       "      <td>0</td>\n",
       "      <td>0</td>\n",
       "      <td>0</td>\n",
       "      <td>0</td>\n",
       "      <td>0</td>\n",
       "      <td>0</td>\n",
       "      <td>1</td>\n",
       "      <td>0</td>\n",
       "      <td>0</td>\n",
       "      <td>0</td>\n",
       "      <td>0</td>\n",
       "      <td>0</td>\n",
       "      <td>0</td>\n",
       "      <td>0</td>\n",
       "      <td>0</td>\n",
       "      <td>0</td>\n",
       "      <td>0</td>\n",
       "    </tr>\n",
       "    <tr>\n",
       "      <th>1599</th>\n",
       "      <td>Someone Else's America (1995)</td>\n",
       "      <td>10-May-1996</td>\n",
       "      <td>NaN</td>\n",
       "      <td>http://us.imdb.com/M/title-exact?Someone%20Els...</td>\n",
       "      <td>0</td>\n",
       "      <td>0</td>\n",
       "      <td>0</td>\n",
       "      <td>0</td>\n",
       "      <td>0</td>\n",
       "      <td>0</td>\n",
       "      <td>0</td>\n",
       "      <td>0</td>\n",
       "      <td>1</td>\n",
       "      <td>0</td>\n",
       "      <td>0</td>\n",
       "      <td>0</td>\n",
       "      <td>0</td>\n",
       "      <td>0</td>\n",
       "      <td>0</td>\n",
       "      <td>0</td>\n",
       "      <td>0</td>\n",
       "      <td>0</td>\n",
       "      <td>0</td>\n",
       "    </tr>\n",
       "    <tr>\n",
       "      <th>1653</th>\n",
       "      <td>Entertaining Angels: The Dorothy Day Story (1996)</td>\n",
       "      <td>27-Sep-1996</td>\n",
       "      <td>NaN</td>\n",
       "      <td>http://us.imdb.com/M/title-exact?Entertaining%...</td>\n",
       "      <td>0</td>\n",
       "      <td>0</td>\n",
       "      <td>0</td>\n",
       "      <td>0</td>\n",
       "      <td>0</td>\n",
       "      <td>0</td>\n",
       "      <td>0</td>\n",
       "      <td>0</td>\n",
       "      <td>1</td>\n",
       "      <td>0</td>\n",
       "      <td>0</td>\n",
       "      <td>0</td>\n",
       "      <td>0</td>\n",
       "      <td>0</td>\n",
       "      <td>0</td>\n",
       "      <td>0</td>\n",
       "      <td>0</td>\n",
       "      <td>0</td>\n",
       "      <td>0</td>\n",
       "    </tr>\n",
       "    <tr>\n",
       "      <th>1656</th>\n",
       "      <td>Little City (1998)</td>\n",
       "      <td>20-Feb-1998</td>\n",
       "      <td>NaN</td>\n",
       "      <td>http://us.imdb.com/M/title-exact?Little+City+(...</td>\n",
       "      <td>0</td>\n",
       "      <td>0</td>\n",
       "      <td>0</td>\n",
       "      <td>0</td>\n",
       "      <td>0</td>\n",
       "      <td>1</td>\n",
       "      <td>0</td>\n",
       "      <td>0</td>\n",
       "      <td>0</td>\n",
       "      <td>0</td>\n",
       "      <td>0</td>\n",
       "      <td>0</td>\n",
       "      <td>0</td>\n",
       "      <td>0</td>\n",
       "      <td>1</td>\n",
       "      <td>0</td>\n",
       "      <td>0</td>\n",
       "      <td>0</td>\n",
       "      <td>0</td>\n",
       "    </tr>\n",
       "    <tr>\n",
       "      <th>1500</th>\n",
       "      <td>Santa with Muscles (1996)</td>\n",
       "      <td>08-Nov-1996</td>\n",
       "      <td>NaN</td>\n",
       "      <td>http://us.imdb.com/M/title-exact?Santa%20with%...</td>\n",
       "      <td>0</td>\n",
       "      <td>0</td>\n",
       "      <td>0</td>\n",
       "      <td>0</td>\n",
       "      <td>0</td>\n",
       "      <td>1</td>\n",
       "      <td>0</td>\n",
       "      <td>0</td>\n",
       "      <td>0</td>\n",
       "      <td>0</td>\n",
       "      <td>0</td>\n",
       "      <td>0</td>\n",
       "      <td>0</td>\n",
       "      <td>0</td>\n",
       "      <td>0</td>\n",
       "      <td>0</td>\n",
       "      <td>0</td>\n",
       "      <td>0</td>\n",
       "      <td>0</td>\n",
       "    </tr>\n",
       "    <tr>\n",
       "      <th>1189</th>\n",
       "      <td>Prefontaine (1997)</td>\n",
       "      <td>24-Jan-1997</td>\n",
       "      <td>NaN</td>\n",
       "      <td>http://us.imdb.com/M/title-exact?Prefontaine%2...</td>\n",
       "      <td>0</td>\n",
       "      <td>0</td>\n",
       "      <td>0</td>\n",
       "      <td>0</td>\n",
       "      <td>0</td>\n",
       "      <td>0</td>\n",
       "      <td>0</td>\n",
       "      <td>0</td>\n",
       "      <td>1</td>\n",
       "      <td>0</td>\n",
       "      <td>0</td>\n",
       "      <td>0</td>\n",
       "      <td>0</td>\n",
       "      <td>0</td>\n",
       "      <td>0</td>\n",
       "      <td>0</td>\n",
       "      <td>0</td>\n",
       "      <td>0</td>\n",
       "      <td>0</td>\n",
       "    </tr>\n",
       "  </tbody>\n",
       "</table>\n",
       "</div>"
      ],
      "text/plain": [
       "                                                     title release_date  \\\n",
       "movieid                                                                   \n",
       "1122                        They Made Me a Criminal (1939)  01-Jan-1939   \n",
       "1201            Marlene Dietrich: Shadow and Light (1996)   02-Apr-1996   \n",
       "1293                                       Star Kid (1997)  16-Jan-1998   \n",
       "1467                  Saint of Fort Washington, The (1993)  01-Jan-1993   \n",
       "1347     Ballad of Narayama, The (Narayama Bushiko) (1958)  01-Jan-1958   \n",
       "1599                         Someone Else's America (1995)  10-May-1996   \n",
       "1653     Entertaining Angels: The Dorothy Day Story (1996)  27-Sep-1996   \n",
       "1656                                    Little City (1998)  20-Feb-1998   \n",
       "1500                             Santa with Muscles (1996)  08-Nov-1996   \n",
       "1189                                    Prefontaine (1997)  24-Jan-1997   \n",
       "\n",
       "         video_release_date  \\\n",
       "movieid                       \n",
       "1122                    NaN   \n",
       "1201                    NaN   \n",
       "1293                    NaN   \n",
       "1467                    NaN   \n",
       "1347                    NaN   \n",
       "1599                    NaN   \n",
       "1653                    NaN   \n",
       "1656                    NaN   \n",
       "1500                    NaN   \n",
       "1189                    NaN   \n",
       "\n",
       "                                                  IMDb_URL  unknown  Action  \\\n",
       "movieid                                                                       \n",
       "1122     http://us.imdb.com/M/title-exact?They%20Made%2...        0       0   \n",
       "1201     http://us.imdb.com/M/title-exact?Marlene%20Die...        0       0   \n",
       "1293     http://us.imdb.com/M/title-exact?imdb-title-12...        0       0   \n",
       "1467     http://us.imdb.com/M/title-exact?Saint%20of%20...        0       0   \n",
       "1347     http://us.imdb.com/M/title-exact?Narayama%20Bu...        0       0   \n",
       "1599     http://us.imdb.com/M/title-exact?Someone%20Els...        0       0   \n",
       "1653     http://us.imdb.com/M/title-exact?Entertaining%...        0       0   \n",
       "1656     http://us.imdb.com/M/title-exact?Little+City+(...        0       0   \n",
       "1500     http://us.imdb.com/M/title-exact?Santa%20with%...        0       0   \n",
       "1189     http://us.imdb.com/M/title-exact?Prefontaine%2...        0       0   \n",
       "\n",
       "         Adventure  Animation  Children  Comedy  Crime  Documentary  Drama  \\\n",
       "movieid                                                                      \n",
       "1122             0          0         0       0      1            0      1   \n",
       "1201             0          0         0       0      0            1      0   \n",
       "1293             1          0         1       0      0            0      0   \n",
       "1467             0          0         0       0      0            0      1   \n",
       "1347             0          0         0       0      0            0      1   \n",
       "1599             0          0         0       0      0            0      1   \n",
       "1653             0          0         0       0      0            0      1   \n",
       "1656             0          0         0       1      0            0      0   \n",
       "1500             0          0         0       1      0            0      0   \n",
       "1189             0          0         0       0      0            0      1   \n",
       "\n",
       "         Fantasy  Film-Noir  Horror  Musical  Mystery  Romance  Sci-Fi  \\\n",
       "movieid                                                                  \n",
       "1122           0          0       0        0        0        0       0   \n",
       "1201           0          0       0        0        0        0       0   \n",
       "1293           1          0       0        0        0        0       1   \n",
       "1467           0          0       0        0        0        0       0   \n",
       "1347           0          0       0        0        0        0       0   \n",
       "1599           0          0       0        0        0        0       0   \n",
       "1653           0          0       0        0        0        0       0   \n",
       "1656           0          0       0        0        0        1       0   \n",
       "1500           0          0       0        0        0        0       0   \n",
       "1189           0          0       0        0        0        0       0   \n",
       "\n",
       "         Thriller  War  Western  \n",
       "movieid                          \n",
       "1122            0    0        0  \n",
       "1201            0    0        0  \n",
       "1293            0    0        0  \n",
       "1467            0    0        0  \n",
       "1347            0    0        0  \n",
       "1599            0    0        0  \n",
       "1653            0    0        0  \n",
       "1656            0    0        0  \n",
       "1500            0    0        0  \n",
       "1189            0    0        0  "
      ]
     },
     "execution_count": 18,
     "metadata": {},
     "output_type": "execute_result"
    }
   ],
   "source": [
    "info_file.loc[[int(m[0]) for m in top_n[\"457\"]]]"
   ]
  },
  {
   "cell_type": "markdown",
   "metadata": {
    "id": "6_Kp3zRwJ9gv"
   },
   "source": [
    "## Explorar los hiperparámetros del modelo UserKnn"
   ]
  },
  {
   "cell_type": "markdown",
   "metadata": {
    "id": "yl2F77nHCcws"
   },
   "source": [
    "Uno de los parámetros que vamos a explorar es el número de vecinos escogidos (Usuarios), para esto calculamos el error del modelo con varios valores de vecinos y observamos cómo es el comportamiento del error."
   ]
  },
  {
   "cell_type": "code",
   "execution_count": 19,
   "metadata": {
    "colab": {
     "base_uri": "https://localhost:8080/"
    },
    "id": "C-te1p0oaUU_",
    "outputId": "c4c0aae7-ffe3-4415-df35-25aaae926025"
   },
   "outputs": [
    {
     "name": "stdout",
     "output_type": "stream",
     "text": [
      "Computing the cosine similarity matrix...\n",
      "Done computing similarity matrix.\n",
      "RMSE: 1.0880\n",
      "MAE:  0.8587\n",
      "Computing the cosine similarity matrix...\n",
      "Done computing similarity matrix.\n",
      "RMSE: 1.0470\n",
      "MAE:  0.8291\n",
      "Computing the cosine similarity matrix...\n",
      "Done computing similarity matrix.\n",
      "RMSE: 1.0248\n",
      "MAE:  0.8139\n",
      "Computing the cosine similarity matrix...\n",
      "Done computing similarity matrix.\n",
      "RMSE: 1.0223\n",
      "MAE:  0.8125\n",
      "Computing the cosine similarity matrix...\n",
      "Done computing similarity matrix.\n",
      "RMSE: 1.0227\n",
      "MAE:  0.8136\n",
      "Computing the cosine similarity matrix...\n",
      "Done computing similarity matrix.\n",
      "RMSE: 1.0249\n",
      "MAE:  0.8164\n",
      "RMSE: [1.0880066691561228, 1.0470099288376837, 1.0248339991369078, 1.0223262772265247, 1.0226955364341241, 1.0249250212627894]\n",
      "MAE: [0.8586799408942337, 0.8290726382845803, 0.8138754558513105, 0.8125053209390201, 0.8135933998242796, 0.8164173443106846]\n"
     ]
    }
   ],
   "source": [
    "k_values = [5, 10, 30, 50, 70, 100] # definir distintos valores de vecinos (k)\n",
    "mae_values = [] # para almacenar resultados de MAE\n",
    "rmse_values = [] # para almacenar valores de RMSE\n",
    "\n",
    "for k in k_values:\n",
    "  myUserKnn = surprise.KNNBasic(k=k, sim_options={'name': 'cosine', 'user_based': True})\n",
    "  myUserKnn.fit(trainset)\n",
    "  predictions = myUserKnn.test(testset)\n",
    "  rmse_values.append(accuracy.rmse(predictions))\n",
    "  mae_values.append(accuracy.mae(predictions))\n",
    "\n",
    "print('RMSE:', rmse_values)\n",
    "print('MAE:', mae_values)"
   ]
  },
  {
   "cell_type": "markdown",
   "metadata": {
    "id": "g55SDLmqCpUo"
   },
   "source": [
    "### Evaluar en base a error de prediccion (RMSE y MAE)"
   ]
  },
  {
   "cell_type": "code",
   "execution_count": 20,
   "metadata": {
    "id": "q9E0YClOjPGb"
   },
   "outputs": [
    {
     "data": {
      "image/png": "[encoded data removed]",
      "text/plain": [
       "<Figure size 640x480 with 1 Axes>"
      ]
     },
     "metadata": {},
     "output_type": "display_data"
    }
   ],
   "source": [
    "import matplotlib.pyplot as plt\n",
    "%matplotlib inline\n",
    "\n",
    "plt.plot(k_values, rmse_values, 'r-')\n",
    "plt.plot(k_values, rmse_values, 'bo')\n",
    "plt.show()"
   ]
  },
  {
   "cell_type": "code",
   "execution_count": 21,
   "metadata": {
    "id": "5Mdf79WsDfWX"
   },
   "outputs": [
    {
     "data": {
      "image/png": "[encoded data removed]",
      "text/plain": [
       "<Figure size 640x480 with 1 Axes>"
      ]
     },
     "metadata": {},
     "output_type": "display_data"
    }
   ],
   "source": [
    "plt.plot(k_values, mae_values, 'y-')\n",
    "plt.plot(k_values, mae_values, 'go')\n",
    "plt.show()"
   ]
  },
  {
   "cell_type": "markdown",
   "metadata": {
    "id": "jrjMzM5zioaP"
   },
   "source": [
    "**Ejercicio 1**\n",
    "\n",
    "Según los resultados, ¿Qué numero de vecinos es mejor para hacer recomendaciones con un menor error de predicción? Muestre el top 10 de películas a recomendar al usuario de ID 457."
   ]
  },
  {
   "cell_type": "code",
   "execution_count": 27,
   "metadata": {},
   "outputs": [
    {
     "name": "stdout",
     "output_type": "stream",
     "text": [
      "Ganador RMSE: k=50\n",
      "Ganador MAE: k=50\n"
     ]
    }
   ],
   "source": [
    "ganador = []\n",
    "for k, rmse, mae in zip(k_values, rmse_values, mae_values):\n",
    "    ganador.append((k, rmse, mae))\n",
    "ganador.sort(key=lambda x: x[1])\n",
    "print(f'Ganador RMSE: k={ganador[0][0]}')\n",
    "ganador.sort(key=lambda x: x[2])\n",
    "print(f'Ganador MAE: k={ganador[0][0]}')\n"
   ]
  },
  {
   "cell_type": "markdown",
   "metadata": {},
   "source": [
    "Segun los resultados el mejor valor de cantidad de vecinos que minimizan ambos errores es k = 50, por lo que se utilizara este valor para estimar las 10 mejores recomendaciones al usuario 457."
   ]
  },
  {
   "cell_type": "code",
   "execution_count": 28,
   "metadata": {
    "id": "S4E3V84Ybl6E"
   },
   "outputs": [
    {
     "name": "stdout",
     "output_type": "stream",
     "text": [
      "Computing the cosine similarity matrix...\n",
      "Done computing similarity matrix.\n"
     ]
    },
    {
     "data": {
      "text/plain": [
       "<surprise.prediction_algorithms.knns.KNNBasic at 0x31b99d750>"
      ]
     },
     "execution_count": 28,
     "metadata": {},
     "output_type": "execute_result"
    }
   ],
   "source": [
    "myUserKnn = surprise.KNNBasic(k=50, sim_options={'name': 'cosine', 'user_based': True})\n",
    "myUserKnn.fit(trainset)"
   ]
  },
  {
   "cell_type": "code",
   "execution_count": 29,
   "metadata": {},
   "outputs": [],
   "source": [
    "a_testset = trainset.build_anti_testset()\n",
    "predictions = myUserKnn.test(a_testset)"
   ]
  },
  {
   "cell_type": "code",
   "execution_count": 30,
   "metadata": {},
   "outputs": [
    {
     "name": "stdout",
     "output_type": "stream",
     "text": [
      "[('1122', 5), ('1201', 5), ('1293', 5), ('1175', 5), ('1467', 5), ('1189', 5), ('1599', 5), ('1653', 5), ('1656', 5), ('1500', 5)]\n"
     ]
    },
    {
     "data": {
      "text/html": [
       "<div>\n",
       "<style scoped>\n",
       "    .dataframe tbody tr th:only-of-type {\n",
       "        vertical-align: middle;\n",
       "    }\n",
       "\n",
       "    .dataframe tbody tr th {\n",
       "        vertical-align: top;\n",
       "    }\n",
       "\n",
       "    .dataframe thead th {\n",
       "        text-align: right;\n",
       "    }\n",
       "</style>\n",
       "<table border=\"1\" class=\"dataframe\">\n",
       "  <thead>\n",
       "    <tr style=\"text-align: right;\">\n",
       "      <th></th>\n",
       "      <th>title</th>\n",
       "      <th>release_date</th>\n",
       "      <th>video_release_date</th>\n",
       "      <th>IMDb_URL</th>\n",
       "      <th>unknown</th>\n",
       "      <th>Action</th>\n",
       "      <th>Adventure</th>\n",
       "      <th>Animation</th>\n",
       "      <th>Children</th>\n",
       "      <th>Comedy</th>\n",
       "      <th>Crime</th>\n",
       "      <th>Documentary</th>\n",
       "      <th>Drama</th>\n",
       "      <th>Fantasy</th>\n",
       "      <th>Film-Noir</th>\n",
       "      <th>Horror</th>\n",
       "      <th>Musical</th>\n",
       "      <th>Mystery</th>\n",
       "      <th>Romance</th>\n",
       "      <th>Sci-Fi</th>\n",
       "      <th>Thriller</th>\n",
       "      <th>War</th>\n",
       "      <th>Western</th>\n",
       "    </tr>\n",
       "    <tr>\n",
       "      <th>movieid</th>\n",
       "      <th></th>\n",
       "      <th></th>\n",
       "      <th></th>\n",
       "      <th></th>\n",
       "      <th></th>\n",
       "      <th></th>\n",
       "      <th></th>\n",
       "      <th></th>\n",
       "      <th></th>\n",
       "      <th></th>\n",
       "      <th></th>\n",
       "      <th></th>\n",
       "      <th></th>\n",
       "      <th></th>\n",
       "      <th></th>\n",
       "      <th></th>\n",
       "      <th></th>\n",
       "      <th></th>\n",
       "      <th></th>\n",
       "      <th></th>\n",
       "      <th></th>\n",
       "      <th></th>\n",
       "      <th></th>\n",
       "    </tr>\n",
       "  </thead>\n",
       "  <tbody>\n",
       "    <tr>\n",
       "      <th>1122</th>\n",
       "      <td>They Made Me a Criminal (1939)</td>\n",
       "      <td>01-Jan-1939</td>\n",
       "      <td>NaN</td>\n",
       "      <td>http://us.imdb.com/M/title-exact?They%20Made%2...</td>\n",
       "      <td>0</td>\n",
       "      <td>0</td>\n",
       "      <td>0</td>\n",
       "      <td>0</td>\n",
       "      <td>0</td>\n",
       "      <td>0</td>\n",
       "      <td>1</td>\n",
       "      <td>0</td>\n",
       "      <td>1</td>\n",
       "      <td>0</td>\n",
       "      <td>0</td>\n",
       "      <td>0</td>\n",
       "      <td>0</td>\n",
       "      <td>0</td>\n",
       "      <td>0</td>\n",
       "      <td>0</td>\n",
       "      <td>0</td>\n",
       "      <td>0</td>\n",
       "      <td>0</td>\n",
       "    </tr>\n",
       "    <tr>\n",
       "      <th>1201</th>\n",
       "      <td>Marlene Dietrich: Shadow and Light (1996)</td>\n",
       "      <td>02-Apr-1996</td>\n",
       "      <td>NaN</td>\n",
       "      <td>http://us.imdb.com/M/title-exact?Marlene%20Die...</td>\n",
       "      <td>0</td>\n",
       "      <td>0</td>\n",
       "      <td>0</td>\n",
       "      <td>0</td>\n",
       "      <td>0</td>\n",
       "      <td>0</td>\n",
       "      <td>0</td>\n",
       "      <td>1</td>\n",
       "      <td>0</td>\n",
       "      <td>0</td>\n",
       "      <td>0</td>\n",
       "      <td>0</td>\n",
       "      <td>0</td>\n",
       "      <td>0</td>\n",
       "      <td>0</td>\n",
       "      <td>0</td>\n",
       "      <td>0</td>\n",
       "      <td>0</td>\n",
       "      <td>0</td>\n",
       "    </tr>\n",
       "    <tr>\n",
       "      <th>1293</th>\n",
       "      <td>Star Kid (1997)</td>\n",
       "      <td>16-Jan-1998</td>\n",
       "      <td>NaN</td>\n",
       "      <td>http://us.imdb.com/M/title-exact?imdb-title-12...</td>\n",
       "      <td>0</td>\n",
       "      <td>0</td>\n",
       "      <td>1</td>\n",
       "      <td>0</td>\n",
       "      <td>1</td>\n",
       "      <td>0</td>\n",
       "      <td>0</td>\n",
       "      <td>0</td>\n",
       "      <td>0</td>\n",
       "      <td>1</td>\n",
       "      <td>0</td>\n",
       "      <td>0</td>\n",
       "      <td>0</td>\n",
       "      <td>0</td>\n",
       "      <td>0</td>\n",
       "      <td>1</td>\n",
       "      <td>0</td>\n",
       "      <td>0</td>\n",
       "      <td>0</td>\n",
       "    </tr>\n",
       "    <tr>\n",
       "      <th>1175</th>\n",
       "      <td>Hugo Pool (1997)</td>\n",
       "      <td>01-Jan-1997</td>\n",
       "      <td>NaN</td>\n",
       "      <td>http://us.imdb.com/M/title-exact?Hugo+Pool+(1997)</td>\n",
       "      <td>0</td>\n",
       "      <td>0</td>\n",
       "      <td>0</td>\n",
       "      <td>0</td>\n",
       "      <td>0</td>\n",
       "      <td>0</td>\n",
       "      <td>0</td>\n",
       "      <td>0</td>\n",
       "      <td>0</td>\n",
       "      <td>0</td>\n",
       "      <td>0</td>\n",
       "      <td>0</td>\n",
       "      <td>0</td>\n",
       "      <td>0</td>\n",
       "      <td>1</td>\n",
       "      <td>0</td>\n",
       "      <td>0</td>\n",
       "      <td>0</td>\n",
       "      <td>0</td>\n",
       "    </tr>\n",
       "    <tr>\n",
       "      <th>1467</th>\n",
       "      <td>Saint of Fort Washington, The (1993)</td>\n",
       "      <td>01-Jan-1993</td>\n",
       "      <td>NaN</td>\n",
       "      <td>http://us.imdb.com/M/title-exact?Saint%20of%20...</td>\n",
       "      <td>0</td>\n",
       "      <td>0</td>\n",
       "      <td>0</td>\n",
       "      <td>0</td>\n",
       "      <td>0</td>\n",
       "      <td>0</td>\n",
       "      <td>0</td>\n",
       "      <td>0</td>\n",
       "      <td>1</td>\n",
       "      <td>0</td>\n",
       "      <td>0</td>\n",
       "      <td>0</td>\n",
       "      <td>0</td>\n",
       "      <td>0</td>\n",
       "      <td>0</td>\n",
       "      <td>0</td>\n",
       "      <td>0</td>\n",
       "      <td>0</td>\n",
       "      <td>0</td>\n",
       "    </tr>\n",
       "    <tr>\n",
       "      <th>1189</th>\n",
       "      <td>Prefontaine (1997)</td>\n",
       "      <td>24-Jan-1997</td>\n",
       "      <td>NaN</td>\n",
       "      <td>http://us.imdb.com/M/title-exact?Prefontaine%2...</td>\n",
       "      <td>0</td>\n",
       "      <td>0</td>\n",
       "      <td>0</td>\n",
       "      <td>0</td>\n",
       "      <td>0</td>\n",
       "      <td>0</td>\n",
       "      <td>0</td>\n",
       "      <td>0</td>\n",
       "      <td>1</td>\n",
       "      <td>0</td>\n",
       "      <td>0</td>\n",
       "      <td>0</td>\n",
       "      <td>0</td>\n",
       "      <td>0</td>\n",
       "      <td>0</td>\n",
       "      <td>0</td>\n",
       "      <td>0</td>\n",
       "      <td>0</td>\n",
       "      <td>0</td>\n",
       "    </tr>\n",
       "    <tr>\n",
       "      <th>1599</th>\n",
       "      <td>Someone Else's America (1995)</td>\n",
       "      <td>10-May-1996</td>\n",
       "      <td>NaN</td>\n",
       "      <td>http://us.imdb.com/M/title-exact?Someone%20Els...</td>\n",
       "      <td>0</td>\n",
       "      <td>0</td>\n",
       "      <td>0</td>\n",
       "      <td>0</td>\n",
       "      <td>0</td>\n",
       "      <td>0</td>\n",
       "      <td>0</td>\n",
       "      <td>0</td>\n",
       "      <td>1</td>\n",
       "      <td>0</td>\n",
       "      <td>0</td>\n",
       "      <td>0</td>\n",
       "      <td>0</td>\n",
       "      <td>0</td>\n",
       "      <td>0</td>\n",
       "      <td>0</td>\n",
       "      <td>0</td>\n",
       "      <td>0</td>\n",
       "      <td>0</td>\n",
       "    </tr>\n",
       "    <tr>\n",
       "      <th>1653</th>\n",
       "      <td>Entertaining Angels: The Dorothy Day Story (1996)</td>\n",
       "      <td>27-Sep-1996</td>\n",
       "      <td>NaN</td>\n",
       "      <td>http://us.imdb.com/M/title-exact?Entertaining%...</td>\n",
       "      <td>0</td>\n",
       "      <td>0</td>\n",
       "      <td>0</td>\n",
       "      <td>0</td>\n",
       "      <td>0</td>\n",
       "      <td>0</td>\n",
       "      <td>0</td>\n",
       "      <td>0</td>\n",
       "      <td>1</td>\n",
       "      <td>0</td>\n",
       "      <td>0</td>\n",
       "      <td>0</td>\n",
       "      <td>0</td>\n",
       "      <td>0</td>\n",
       "      <td>0</td>\n",
       "      <td>0</td>\n",
       "      <td>0</td>\n",
       "      <td>0</td>\n",
       "      <td>0</td>\n",
       "    </tr>\n",
       "    <tr>\n",
       "      <th>1656</th>\n",
       "      <td>Little City (1998)</td>\n",
       "      <td>20-Feb-1998</td>\n",
       "      <td>NaN</td>\n",
       "      <td>http://us.imdb.com/M/title-exact?Little+City+(...</td>\n",
       "      <td>0</td>\n",
       "      <td>0</td>\n",
       "      <td>0</td>\n",
       "      <td>0</td>\n",
       "      <td>0</td>\n",
       "      <td>1</td>\n",
       "      <td>0</td>\n",
       "      <td>0</td>\n",
       "      <td>0</td>\n",
       "      <td>0</td>\n",
       "      <td>0</td>\n",
       "      <td>0</td>\n",
       "      <td>0</td>\n",
       "      <td>0</td>\n",
       "      <td>1</td>\n",
       "      <td>0</td>\n",
       "      <td>0</td>\n",
       "      <td>0</td>\n",
       "      <td>0</td>\n",
       "    </tr>\n",
       "    <tr>\n",
       "      <th>1500</th>\n",
       "      <td>Santa with Muscles (1996)</td>\n",
       "      <td>08-Nov-1996</td>\n",
       "      <td>NaN</td>\n",
       "      <td>http://us.imdb.com/M/title-exact?Santa%20with%...</td>\n",
       "      <td>0</td>\n",
       "      <td>0</td>\n",
       "      <td>0</td>\n",
       "      <td>0</td>\n",
       "      <td>0</td>\n",
       "      <td>1</td>\n",
       "      <td>0</td>\n",
       "      <td>0</td>\n",
       "      <td>0</td>\n",
       "      <td>0</td>\n",
       "      <td>0</td>\n",
       "      <td>0</td>\n",
       "      <td>0</td>\n",
       "      <td>0</td>\n",
       "      <td>0</td>\n",
       "      <td>0</td>\n",
       "      <td>0</td>\n",
       "      <td>0</td>\n",
       "      <td>0</td>\n",
       "    </tr>\n",
       "  </tbody>\n",
       "</table>\n",
       "</div>"
      ],
      "text/plain": [
       "                                                     title release_date  \\\n",
       "movieid                                                                   \n",
       "1122                        They Made Me a Criminal (1939)  01-Jan-1939   \n",
       "1201            Marlene Dietrich: Shadow and Light (1996)   02-Apr-1996   \n",
       "1293                                       Star Kid (1997)  16-Jan-1998   \n",
       "1175                                      Hugo Pool (1997)  01-Jan-1997   \n",
       "1467                  Saint of Fort Washington, The (1993)  01-Jan-1993   \n",
       "1189                                    Prefontaine (1997)  24-Jan-1997   \n",
       "1599                         Someone Else's America (1995)  10-May-1996   \n",
       "1653     Entertaining Angels: The Dorothy Day Story (1996)  27-Sep-1996   \n",
       "1656                                    Little City (1998)  20-Feb-1998   \n",
       "1500                             Santa with Muscles (1996)  08-Nov-1996   \n",
       "\n",
       "         video_release_date  \\\n",
       "movieid                       \n",
       "1122                    NaN   \n",
       "1201                    NaN   \n",
       "1293                    NaN   \n",
       "1175                    NaN   \n",
       "1467                    NaN   \n",
       "1189                    NaN   \n",
       "1599                    NaN   \n",
       "1653                    NaN   \n",
       "1656                    NaN   \n",
       "1500                    NaN   \n",
       "\n",
       "                                                  IMDb_URL  unknown  Action  \\\n",
       "movieid                                                                       \n",
       "1122     http://us.imdb.com/M/title-exact?They%20Made%2...        0       0   \n",
       "1201     http://us.imdb.com/M/title-exact?Marlene%20Die...        0       0   \n",
       "1293     http://us.imdb.com/M/title-exact?imdb-title-12...        0       0   \n",
       "1175     http://us.imdb.com/M/title-exact?Hugo+Pool+(1997)        0       0   \n",
       "1467     http://us.imdb.com/M/title-exact?Saint%20of%20...        0       0   \n",
       "1189     http://us.imdb.com/M/title-exact?Prefontaine%2...        0       0   \n",
       "1599     http://us.imdb.com/M/title-exact?Someone%20Els...        0       0   \n",
       "1653     http://us.imdb.com/M/title-exact?Entertaining%...        0       0   \n",
       "1656     http://us.imdb.com/M/title-exact?Little+City+(...        0       0   \n",
       "1500     http://us.imdb.com/M/title-exact?Santa%20with%...        0       0   \n",
       "\n",
       "         Adventure  Animation  Children  Comedy  Crime  Documentary  Drama  \\\n",
       "movieid                                                                      \n",
       "1122             0          0         0       0      1            0      1   \n",
       "1201             0          0         0       0      0            1      0   \n",
       "1293             1          0         1       0      0            0      0   \n",
       "1175             0          0         0       0      0            0      0   \n",
       "1467             0          0         0       0      0            0      1   \n",
       "1189             0          0         0       0      0            0      1   \n",
       "1599             0          0         0       0      0            0      1   \n",
       "1653             0          0         0       0      0            0      1   \n",
       "1656             0          0         0       1      0            0      0   \n",
       "1500             0          0         0       1      0            0      0   \n",
       "\n",
       "         Fantasy  Film-Noir  Horror  Musical  Mystery  Romance  Sci-Fi  \\\n",
       "movieid                                                                  \n",
       "1122           0          0       0        0        0        0       0   \n",
       "1201           0          0       0        0        0        0       0   \n",
       "1293           1          0       0        0        0        0       1   \n",
       "1175           0          0       0        0        0        1       0   \n",
       "1467           0          0       0        0        0        0       0   \n",
       "1189           0          0       0        0        0        0       0   \n",
       "1599           0          0       0        0        0        0       0   \n",
       "1653           0          0       0        0        0        0       0   \n",
       "1656           0          0       0        0        0        1       0   \n",
       "1500           0          0       0        0        0        0       0   \n",
       "\n",
       "         Thriller  War  Western  \n",
       "movieid                          \n",
       "1122            0    0        0  \n",
       "1201            0    0        0  \n",
       "1293            0    0        0  \n",
       "1175            0    0        0  \n",
       "1467            0    0        0  \n",
       "1189            0    0        0  \n",
       "1599            0    0        0  \n",
       "1653            0    0        0  \n",
       "1656            0    0        0  \n",
       "1500            0    0        0  "
      ]
     },
     "execution_count": 30,
     "metadata": {},
     "output_type": "execute_result"
    }
   ],
   "source": [
    "top_n = get_top_n(predictions, n=10)\n",
    "print(top_n[\"457\"])\n",
    "info_file.loc[[int(m[0]) for m in top_n[\"457\"]]]"
   ]
  },
  {
   "cell_type": "code",
   "execution_count": 35,
   "metadata": {},
   "outputs": [
    {
     "name": "stdout",
     "output_type": "stream",
     "text": [
      "La pelicula con id 1122 esta en ambas listas con rating estimado 5\n",
      "La pelicula con id 1201 esta en ambas listas con rating estimado 5\n",
      "La pelicula con id 1293 esta en ambas listas con rating estimado 5\n",
      "La pelicula con id 1467 esta en ambas listas con rating estimado 5\n",
      "La pelicula con id 1347 NO esta en la lista de k=50\n",
      "La pelicula con id 1599 esta en ambas listas con rating estimado 5\n",
      "La pelicula con id 1653 esta en ambas listas con rating estimado 5\n",
      "La pelicula con id 1656 esta en ambas listas con rating estimado 5\n",
      "La pelicula con id 1500 esta en ambas listas con rating estimado 5\n",
      "La pelicula con id 1189 NO esta en la lista de k=50\n",
      "Cantidad de peliculas que no estan en la lista de k=50: 2\n"
     ]
    }
   ],
   "source": [
    "top_10_k7 = [('1122', 5), ('1201', 5), ('1293', 5), ('1467', 5), ('1347', 5), ('1599', 5), ('1653', 5), ('1656', 5), ('1500', 5), ('1189', 4.999999999999999)]\n",
    "top_10_k50 = [('1122', 5), ('1201', 5), ('1293', 5), ('1175', 5), ('1467', 5), ('1189', 5), ('1599', 5), ('1653', 5), ('1656', 5), ('1500', 5)]\n",
    "\n",
    "contador = 0\n",
    "for tupla in top_10_k7:\n",
    "    if tupla in top_10_k50:\n",
    "        print(f'La pelicula con id {tupla[0]} esta en ambas listas con rating estimado {tupla[1]}')\n",
    "    else:\n",
    "        print(f'La pelicula con id {tupla[0]} NO esta en la lista de k=50')\n",
    "        contador += 1\n",
    "print(f'Cantidad de peliculas que no estan en la lista de k=50: {contador}')"
   ]
  },
  {
   "cell_type": "markdown",
   "metadata": {},
   "source": [
    "En conclusión al optimizar el parametro de vecinos se lograron mejores recomendaciones, ya que todas las peliculas que se recomendarón tenian una prediccion de 5, en vez con 7 vecinos la ultima pelicula tenia un rating de 4.999999999999999, lo cual es casi 5 pero sigue siendo peor. De todas formas en una aplicación real con muchos usuarios tal vez se puede sacrificar un menor error por una mayor rapidez del algoritmo."
   ]
  }
 ],
 "metadata": {
  "colab": {
   "provenance": []
  },
  "kernelspec": {
   "display_name": "Python 3",
   "name": "python3"
  },
  "language_info": {
   "codemirror_mode": {
    "name": "ipython",
    "version": 3
   },
   "file_extension": ".py",
   "mimetype": "text/x-python",
   "name": "python",
   "nbconvert_exporter": "python",
   "pygments_lexer": "ipython3",
   "version": "3.10.11"
  },
  "varInspector": {
   "cols": {
    "lenName": 16,
    "lenType": 16,
    "lenVar": 40
   },
   "kernels_config": {
    "python": {
     "delete_cmd_postfix": "",
     "delete_cmd_prefix": "del ",
     "library": "var_list.py",
     "varRefreshCmd": "print(var_dic_list())"
    },
    "r": {
     "delete_cmd_postfix": ") ",
     "delete_cmd_prefix": "rm(",
     "library": "var_list.r",
     "varRefreshCmd": "cat(var_dic_list()) "
    }
   },
   "types_to_exclude": [
    "module",
    "function",
    "builtin_function_or_method",
    "instance",
    "_Feature"
   ],
   "window_display": false
  }
 },
 "nbformat": 4,
 "nbformat_minor": 0
}
