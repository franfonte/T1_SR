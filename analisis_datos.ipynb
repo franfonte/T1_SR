{
 "cells": [
  {
   "cell_type": "markdown",
   "id": "5d762753",
   "metadata": {},
   "source": [
    "### Primero se importan las bibliotecas necesarias"
   ]
  },
  {
   "cell_type": "code",
   "execution_count": 1,
   "id": "4812760a",
   "metadata": {},
   "outputs": [],
   "source": [
    "import pandas as pd\n",
    "import matplotlib.pyplot as plt"
   ]
  },
  {
   "cell_type": "markdown",
   "id": "9db76e98",
   "metadata": {},
   "source": [
    "### Primero se cargan los datos necesarios"
   ]
  },
  {
   "cell_type": "code",
   "execution_count": 15,
   "id": "1223ea7e",
   "metadata": {},
   "outputs": [
    {
     "data": {
      "text/html": [
       "<div>\n",
       "<style scoped>\n",
       "    .dataframe tbody tr th:only-of-type {\n",
       "        vertical-align: middle;\n",
       "    }\n",
       "\n",
       "    .dataframe tbody tr th {\n",
       "        vertical-align: top;\n",
       "    }\n",
       "\n",
       "    .dataframe thead th {\n",
       "        text-align: right;\n",
       "    }\n",
       "</style>\n",
       "<table border=\"1\" class=\"dataframe\">\n",
       "  <thead>\n",
       "    <tr style=\"text-align: right;\">\n",
       "      <th></th>\n",
       "      <th>rating</th>\n",
       "      <th>review_title</th>\n",
       "      <th>text</th>\n",
       "      <th>user_id</th>\n",
       "      <th>timestamp</th>\n",
       "      <th>item_title</th>\n",
       "      <th>item_id</th>\n",
       "    </tr>\n",
       "  </thead>\n",
       "  <tbody>\n",
       "    <tr>\n",
       "      <th>0</th>\n",
       "      <td>5.0</td>\n",
       "      <td>One of my favorites !</td>\n",
       "      <td>Great game in the series !</td>\n",
       "      <td>149157</td>\n",
       "      <td>2017-11-13 10:53:02.745</td>\n",
       "      <td>Medal of Honor - PC</td>\n",
       "      <td>4946</td>\n",
       "    </tr>\n",
       "    <tr>\n",
       "      <th>1</th>\n",
       "      <td>5.0</td>\n",
       "      <td>Five Stars</td>\n",
       "      <td>Thanks.</td>\n",
       "      <td>773830</td>\n",
       "      <td>2018-02-21 00:28:38.152</td>\n",
       "      <td>Skylanders Imaginators - Crash Bandicoot Editi...</td>\n",
       "      <td>1451</td>\n",
       "    </tr>\n",
       "    <tr>\n",
       "      <th>2</th>\n",
       "      <td>5.0</td>\n",
       "      <td>Almost perfect...</td>\n",
       "      <td>Likes:&lt;br /&gt;Smaller and lighter than the origi...</td>\n",
       "      <td>684350</td>\n",
       "      <td>2021-05-30 23:57:05.474</td>\n",
       "      <td>Retro Fighters StrikerDC Dreamcast Controller ...</td>\n",
       "      <td>39371</td>\n",
       "    </tr>\n",
       "    <tr>\n",
       "      <th>3</th>\n",
       "      <td>5.0</td>\n",
       "      <td>Five Stars</td>\n",
       "      <td>like it</td>\n",
       "      <td>524397</td>\n",
       "      <td>2017-04-12 22:33:32.000</td>\n",
       "      <td>Skylanders SuperChargers: Vehicle Burn Cycle C...</td>\n",
       "      <td>1440</td>\n",
       "    </tr>\n",
       "    <tr>\n",
       "      <th>4</th>\n",
       "      <td>5.0</td>\n",
       "      <td>Great game</td>\n",
       "      <td>A huge hit at my household. Nice job!</td>\n",
       "      <td>310221</td>\n",
       "      <td>2019-04-03 20:32:43.047</td>\n",
       "      <td>Yoshi's Crafted World - Nintendo Switch [Digit...</td>\n",
       "      <td>2869</td>\n",
       "    </tr>\n",
       "  </tbody>\n",
       "</table>\n",
       "</div>"
      ],
      "text/plain": [
       "   rating           review_title  \\\n",
       "0     5.0  One of my favorites !   \n",
       "1     5.0             Five Stars   \n",
       "2     5.0      Almost perfect...   \n",
       "3     5.0             Five Stars   \n",
       "4     5.0             Great game   \n",
       "\n",
       "                                                text  user_id  \\\n",
       "0                         Great game in the series !   149157   \n",
       "1                                            Thanks.   773830   \n",
       "2  Likes:<br />Smaller and lighter than the origi...   684350   \n",
       "3                                            like it   524397   \n",
       "4              A huge hit at my household. Nice job!   310221   \n",
       "\n",
       "                 timestamp                                         item_title  \\\n",
       "0  2017-11-13 10:53:02.745                                Medal of Honor - PC   \n",
       "1  2018-02-21 00:28:38.152  Skylanders Imaginators - Crash Bandicoot Editi...   \n",
       "2  2021-05-30 23:57:05.474  Retro Fighters StrikerDC Dreamcast Controller ...   \n",
       "3  2017-04-12 22:33:32.000  Skylanders SuperChargers: Vehicle Burn Cycle C...   \n",
       "4  2019-04-03 20:32:43.047  Yoshi's Crafted World - Nintendo Switch [Digit...   \n",
       "\n",
       "   item_id  \n",
       "0     4946  \n",
       "1     1451  \n",
       "2    39371  \n",
       "3     1440  \n",
       "4     2869  "
      ]
     },
     "execution_count": 15,
     "metadata": {},
     "output_type": "execute_result"
    }
   ],
   "source": [
    "train_data = pd.read_csv(\"datos/train.csv\")\n",
    "validation_data = pd.read_csv(\"datos/validation.csv\")\n",
    "train_data.head()\n"
   ]
  },
  {
   "cell_type": "code",
   "execution_count": 12,
   "id": "36e8390c",
   "metadata": {},
   "outputs": [
    {
     "data": {
      "text/html": [
       "<div>\n",
       "<style scoped>\n",
       "    .dataframe tbody tr th:only-of-type {\n",
       "        vertical-align: middle;\n",
       "    }\n",
       "\n",
       "    .dataframe tbody tr th {\n",
       "        vertical-align: top;\n",
       "    }\n",
       "\n",
       "    .dataframe thead th {\n",
       "        text-align: right;\n",
       "    }\n",
       "</style>\n",
       "<table border=\"1\" class=\"dataframe\">\n",
       "  <thead>\n",
       "    <tr style=\"text-align: right;\">\n",
       "      <th></th>\n",
       "      <th>title</th>\n",
       "      <th>average_rating</th>\n",
       "      <th>rating_number</th>\n",
       "      <th>features</th>\n",
       "      <th>description</th>\n",
       "      <th>price</th>\n",
       "      <th>store</th>\n",
       "      <th>categories</th>\n",
       "      <th>item_id</th>\n",
       "      <th>image</th>\n",
       "    </tr>\n",
       "  </thead>\n",
       "  <tbody>\n",
       "    <tr>\n",
       "      <th>0</th>\n",
       "      <td>Dash 8-300 Professional Add-On</td>\n",
       "      <td>5.0</td>\n",
       "      <td>1</td>\n",
       "      <td>\"Features Dash 8-300 and 8-Q300 (Q rollout liv...</td>\n",
       "      <td>The Dash 8-300 Professional Add-On lets you pi...</td>\n",
       "      <td>NaN</td>\n",
       "      <td>Aerosoft</td>\n",
       "      <td>PC, Games</td>\n",
       "      <td>118568</td>\n",
       "      <td>https://m.media-amazon.com/images/I/21DVWE41A0...</td>\n",
       "    </tr>\n",
       "    <tr>\n",
       "      <th>1</th>\n",
       "      <td>Phantasmagoria: A Puzzle of Flesh</td>\n",
       "      <td>4.1</td>\n",
       "      <td>18</td>\n",
       "      <td>Windows 95</td>\n",
       "      <td>NaN</td>\n",
       "      <td>NaN</td>\n",
       "      <td>Sierra</td>\n",
       "      <td>PC, Games</td>\n",
       "      <td>35295</td>\n",
       "      <td>https://m.media-amazon.com/images/I/51pqAznTA9...</td>\n",
       "    </tr>\n",
       "    <tr>\n",
       "      <th>2</th>\n",
       "      <td>NBA 2K17 - Early Tip Off Edition - PlayStation 4</td>\n",
       "      <td>4.3</td>\n",
       "      <td>223</td>\n",
       "      <td>The #1 rated NBA video game simulation series ...</td>\n",
       "      <td>Following the record-breaking launch of NBA 2K...</td>\n",
       "      <td>58.00</td>\n",
       "      <td>2K</td>\n",
       "      <td>PlayStation 4, Games</td>\n",
       "      <td>2884</td>\n",
       "      <td>https://m.media-amazon.com/images/I/51wlIPcf0g...</td>\n",
       "    </tr>\n",
       "    <tr>\n",
       "      <th>3</th>\n",
       "      <td>Nintendo Selects: The Legend of Zelda Ocarina ...</td>\n",
       "      <td>4.9</td>\n",
       "      <td>22</td>\n",
       "      <td>Authentic Nintendo Selects: The Legend of Zeld...</td>\n",
       "      <td>NaN</td>\n",
       "      <td>37.42</td>\n",
       "      <td>Amazon Renewed</td>\n",
       "      <td>Legacy Systems, Nintendo Systems, Nintendo 3D...</td>\n",
       "      <td>106166</td>\n",
       "      <td>https://m.media-amazon.com/images/I/51raO0wAe8...</td>\n",
       "    </tr>\n",
       "    <tr>\n",
       "      <th>4</th>\n",
       "      <td>Thrustmaster Elite Fitness Pack for Nintendo Wii</td>\n",
       "      <td>3.0</td>\n",
       "      <td>3</td>\n",
       "      <td>Includes (9) Total Accessories  Pedometer  Wii...</td>\n",
       "      <td>The Thrustmaster Motion Plus Elite Fitness Pac...</td>\n",
       "      <td>NaN</td>\n",
       "      <td>THRUSTMASTER</td>\n",
       "      <td>Legacy Systems, Nintendo Systems, Wii, Access...</td>\n",
       "      <td>93217</td>\n",
       "      <td>https://m.media-amazon.com/images/I/31spO9JKlu...</td>\n",
       "    </tr>\n",
       "  </tbody>\n",
       "</table>\n",
       "</div>"
      ],
      "text/plain": [
       "                                               title  average_rating  \\\n",
       "0                     Dash 8-300 Professional Add-On             5.0   \n",
       "1                  Phantasmagoria: A Puzzle of Flesh             4.1   \n",
       "2   NBA 2K17 - Early Tip Off Edition - PlayStation 4             4.3   \n",
       "3  Nintendo Selects: The Legend of Zelda Ocarina ...             4.9   \n",
       "4   Thrustmaster Elite Fitness Pack for Nintendo Wii             3.0   \n",
       "\n",
       "   rating_number                                           features  \\\n",
       "0              1  \"Features Dash 8-300 and 8-Q300 (Q rollout liv...   \n",
       "1             18                                         Windows 95   \n",
       "2            223  The #1 rated NBA video game simulation series ...   \n",
       "3             22  Authentic Nintendo Selects: The Legend of Zeld...   \n",
       "4              3  Includes (9) Total Accessories  Pedometer  Wii...   \n",
       "\n",
       "                                         description  price           store  \\\n",
       "0  The Dash 8-300 Professional Add-On lets you pi...    NaN        Aerosoft   \n",
       "1                                                NaN    NaN          Sierra   \n",
       "2  Following the record-breaking launch of NBA 2K...  58.00              2K   \n",
       "3                                                NaN  37.42  Amazon Renewed   \n",
       "4  The Thrustmaster Motion Plus Elite Fitness Pac...    NaN    THRUSTMASTER   \n",
       "\n",
       "                                          categories  item_id  \\\n",
       "0                                          PC, Games   118568   \n",
       "1                                          PC, Games    35295   \n",
       "2                               PlayStation 4, Games     2884   \n",
       "3   Legacy Systems, Nintendo Systems, Nintendo 3D...   106166   \n",
       "4   Legacy Systems, Nintendo Systems, Wii, Access...    93217   \n",
       "\n",
       "                                               image  \n",
       "0  https://m.media-amazon.com/images/I/21DVWE41A0...  \n",
       "1  https://m.media-amazon.com/images/I/51pqAznTA9...  \n",
       "2  https://m.media-amazon.com/images/I/51wlIPcf0g...  \n",
       "3  https://m.media-amazon.com/images/I/51raO0wAe8...  \n",
       "4  https://m.media-amazon.com/images/I/31spO9JKlu...  "
      ]
     },
     "execution_count": 12,
     "metadata": {},
     "output_type": "execute_result"
    }
   ],
   "source": [
    "vg_data = pd.read_csv(\"datos/videogames_metadata.csv\")\n",
    "vg_data.head()"
   ]
  },
  {
   "cell_type": "markdown",
   "id": "1fa6111c",
   "metadata": {},
   "source": [
    "### Cantidad de datos"
   ]
  },
  {
   "cell_type": "code",
   "execution_count": 34,
   "id": "75731a1f",
   "metadata": {},
   "outputs": [
    {
     "name": "stdout",
     "output_type": "stream",
     "text": [
      "Número de ratings en train: 68584\n",
      "Número de usuarios únicos en train: 5814\n",
      "Número de ratings en validation: 22861\n",
      "Número de usuarios únicos en validation: 5814\n",
      "Son los mismos usuarios?: True\n"
     ]
    }
   ],
   "source": [
    "# Numero de usuarios únicos en train y validation\n",
    "cantidad_ratings_train = len(train_data)\n",
    "numero_usuarios_train = train_data['user_id'].nunique()\n",
    "cantidad_ratings_validation = len(validation_data)\n",
    "numero_usuarios_validation = validation_data['user_id'].nunique()\n",
    "print(\"Número de ratings en train:\", cantidad_ratings_train)\n",
    "print(\"Número de usuarios únicos en train:\", numero_usuarios_train)\n",
    "print(\"Número de ratings en validation:\", cantidad_ratings_validation)\n",
    "print(\"Número de usuarios únicos en validation:\", numero_usuarios_validation)\n",
    "\n",
    "# Se verifica que sean los mismos usuarios\n",
    "print(f\"Son los mismos usuarios?: {train_data['user_id'].unique().sort() == validation_data['user_id'].unique().sort()}\")\n"
   ]
  },
  {
   "cell_type": "code",
   "execution_count": 32,
   "id": "77b461d5",
   "metadata": {},
   "outputs": [
    {
     "name": "stdout",
     "output_type": "stream",
     "text": [
      "Número de items en train: 16846\n",
      "Número de items en validation: 9246\n",
      "Número de items totales: 81255\n",
      "Número de items en validación que están en train: 6849 40.7%\n"
     ]
    }
   ],
   "source": [
    "# Numero de items en train\n",
    "numero_items_train = train_data['item_id'].nunique()\n",
    "print(\"Número de items en train:\", numero_items_train)\n",
    "\n",
    "# Numero de items en validation\n",
    "numero_items_validation = validation_data['item_id'].nunique()\n",
    "print(\"Número de items en validation:\", numero_items_validation)\n",
    "\n",
    "# Numero de items en total\n",
    "numero_items = vg_data['item_id'].nunique()\n",
    "print(\"Número de items totales:\", numero_items)\n",
    "\n",
    "elementos_validacion = validation_data['item_id'].unique().tolist()\n",
    "elememtos_train = train_data['item_id'].unique().tolist()\n",
    "contador = 0\n",
    "for elemento in elementos_validacion:\n",
    "    if elemento in elememtos_train:\n",
    "        contador += 1\n",
    "print(\"Número de items en validación que están en train:\", contador, str(round((contador/len(elememtos_train))*100,1)) + \"%\")\n",
    "        \n"
   ]
  },
  {
   "cell_type": "markdown",
   "id": "d92fd644",
   "metadata": {},
   "source": [
    "### Promedios de ratings"
   ]
  },
  {
   "cell_type": "code",
   "execution_count": 49,
   "id": "9e4e2ad5",
   "metadata": {},
   "outputs": [
    {
     "name": "stdout",
     "output_type": "stream",
     "text": [
      "Promedio de ratings por usuario en train: 11.8\n",
      "Desviación estándar de ratings por usuario en train: 2.4\n",
      "Promedio de ratings por usuario en validation: 3.9\n",
      "Desviación estándar de ratings por usuario en validation: 0.8\n"
     ]
    }
   ],
   "source": [
    "# Promedio de cantidad de ratings por usuario en train\n",
    "cantidad_ratings_usuario_train = train_data.groupby('user_id').size()\n",
    "promedio_ratings_usuario = round(cantidad_ratings_usuario_train.mean(), 1)\n",
    "std_ratings_usuario = round(cantidad_ratings_usuario_train.std(), 1)\n",
    "print(\"Promedio de ratings por usuario en train:\", promedio_ratings_usuario)\n",
    "print(\"Desviación estándar de ratings por usuario en train:\", std_ratings_usuario)\n",
    "\n",
    "# Promedio de cantidad de ratings por usuario en validation\n",
    "cantidad_ratings_usuario_validation = validation_data.groupby('user_id').size()\n",
    "promedio_ratings_usuario_validation = round(cantidad_ratings_usuario_validation.mean(), 1)\n",
    "std_ratings_usuario_validation = round(cantidad_ratings_usuario_validation.std(), 1)\n",
    "print(\"Promedio de ratings por usuario en validation:\", promedio_ratings_usuario_validation)\n",
    "print(\"Desviación estándar de ratings por usuario en validation:\", std_ratings_usuario_validation)"
   ]
  },
  {
   "cell_type": "code",
   "execution_count": 50,
   "id": "913483dc",
   "metadata": {},
   "outputs": [
    {
     "name": "stdout",
     "output_type": "stream",
     "text": [
      "Promedio de ratings por item en train: 4.1\n",
      "Desviación estándar de ratings por item en train: 8.6\n",
      "Promedio de ratings por item en validation: 2.5\n",
      "Desviación estándar de ratings por item en validation: 3.8\n"
     ]
    }
   ],
   "source": [
    "# Promedio de ratings por item en train\n",
    "cantidad_ratings_item_train = train_data.groupby('item_id').size()\n",
    "promedio_ratings_item = round(cantidad_ratings_item_train.mean(), 1)\n",
    "std_ratings_item = round(cantidad_ratings_item_train.std(), 1)\n",
    "print(\"Promedio de ratings por item en train:\", promedio_ratings_item)\n",
    "print(\"Desviación estándar de ratings por item en train:\", std_ratings_item)\n",
    "\n",
    "# Promedio de ratings por item en validation\n",
    "cantidad_ratings_item_validation = validation_data.groupby('item_id').size()\n",
    "promedio_ratings_item_validation = round(cantidad_ratings_item_validation.mean(), 1)\n",
    "std_ratings_item_validation = round(cantidad_ratings_item_validation.std(), 1)\n",
    "print(\"Promedio de ratings por item en validation:\", promedio_ratings_item_validation)\n",
    "print(\"Desviación estándar de ratings por item en validation:\", std_ratings_item_validation)"
   ]
  },
  {
   "cell_type": "code",
   "execution_count": 67,
   "id": "3077e2e3",
   "metadata": {},
   "outputs": [
    {
     "name": "stdout",
     "output_type": "stream",
     "text": [
      "Promedio de todos los ratings en train: 4.27\n",
      "Desviación estándar de todos los ratings en train: 1.16\n",
      "Promedio de todos los ratings en validation: 4.27\n",
      "Desviación estándar de todos los ratings en validation: 1.16\n",
      "Promedio de todos los ratings en train, por item: 4.2\n",
      "Desviación estándar de todos los ratings en train, por item: 1.01\n",
      "Promedio de todos los ratings en validation, por item: 4.23\n",
      "Desviación estándar de todos los ratings en validation, por item: 1.05\n"
     ]
    }
   ],
   "source": [
    "# Promedio de todos los ratings en train\n",
    "promedio_rating_train = round(train_data['rating'].mean(), 2)\n",
    "std_rating_train = round(train_data['rating'].std(), 2)\n",
    "print(\"Promedio de todos los ratings en train:\", promedio_rating_train)\n",
    "print(\"Desviación estándar de todos los ratings en train:\", std_rating_train)\n",
    "\n",
    "# Promedio de todos los ratings en validation\n",
    "promedio_rating_validation = round(validation_data['rating'].mean(), 2)\n",
    "std_rating_validation = round(validation_data['rating'].std(), 2)\n",
    "print(\"Promedio de todos los ratings en validation:\", promedio_rating_validation)\n",
    "print(\"Desviación estándar de todos los ratings en validation:\", std_rating_validation)\n",
    "\n",
    "# Promedio de todos los ratings en train, por item\n",
    "promedio_rating_item_train = round(train_data.groupby('item_id')['rating'].mean().mean(), 2)\n",
    "std_rating_item_train = round(train_data.groupby('item_id')['rating'].mean().std(), 2)\n",
    "print(\"Promedio de todos los ratings en train, por item:\", promedio_rating_item_train)\n",
    "print(\"Desviación estándar de todos los ratings en train, por item:\", std_rating_item_train)\n",
    "\n",
    "# Promedio de todos los ratings en validation, por item\n",
    "promedio_rating_item_validation = round(validation_data.groupby('item_id')['rating'].mean().mean(), 2)\n",
    "std_rating_item_validation = round(validation_data.groupby('item_id')['rating'].mean().std(), 2)\n",
    "print(\"Promedio de todos los ratings en validation, por item:\", promedio_rating_item_validation)\n",
    "print(\"Desviación estándar de todos los ratings en validation, por item:\", std_rating_item_validation)\n"
   ]
  },
  {
   "cell_type": "markdown",
   "id": "71e8920a",
   "metadata": {},
   "source": [
    "### Valores extremos"
   ]
  },
  {
   "cell_type": "code",
   "execution_count": 71,
   "id": "252d419b",
   "metadata": {},
   "outputs": [
    {
     "name": "stdout",
     "output_type": "stream",
     "text": [
      "Cantidad máxima de ratings por un usuario en train: 18\n",
      "Cantidad máxima de ratings por un usuario en validation: 6\n",
      "Cantidad máxima de ratings a un item en train: 248\n",
      "Cantidad máxima de ratings a un item en validation: 80\n"
     ]
    }
   ],
   "source": [
    "# Cantidad maxima de ratings por un usuario en train\n",
    "cantidad_maxima_ratings_usuario_train = cantidad_ratings_usuario_train.max()\n",
    "print(\"Cantidad máxima de ratings por un usuario en train:\", cantidad_maxima_ratings_usuario_train)\n",
    "\n",
    "# Cantidad maxima de ratings por un usuario en validation\n",
    "cantidad_maxima_ratings_usuario_validation = cantidad_ratings_usuario_validation.max()\n",
    "print(\"Cantidad máxima de ratings por un usuario en validation:\", cantidad_maxima_ratings_usuario_validation)\n",
    "\n",
    "# Cantidad maxima de ratings a un item en train\n",
    "cantidad_maxima_ratings_item_train = cantidad_ratings_item_train.max()\n",
    "print(\"Cantidad máxima de ratings a un item en train:\", cantidad_maxima_ratings_item_train)\n",
    "\n",
    "# Cantidad maxima de ratings a un item en validation\n",
    "cantidad_maxima_ratings_item_validation = cantidad_ratings_item_validation.max()\n",
    "print(\"Cantidad máxima de ratings a un item en validation:\", cantidad_maxima_ratings_item_validation)\n"
   ]
  },
  {
   "cell_type": "markdown",
   "id": "2cb86019",
   "metadata": {},
   "source": [
    "### Densidad matrices"
   ]
  },
  {
   "cell_type": "code",
   "execution_count": 75,
   "id": "136ef9ef",
   "metadata": {},
   "outputs": [
    {
     "name": "stdout",
     "output_type": "stream",
     "text": [
      "Densidad en train: 0.07 %\n",
      "Densidad en validation: 0.0425 %\n"
     ]
    }
   ],
   "source": [
    "# Densidad en train\n",
    "densidad_train = (cantidad_ratings_train/(numero_usuarios_train * numero_items_train))*100\n",
    "densidad_validation = (cantidad_ratings_validation/(numero_usuarios_validation * numero_items_validation))*100\n",
    "print(\"Densidad en train:\", round(densidad_train, 4),\"%\")\n",
    "print(\"Densidad en validation:\", round(densidad_validation, 4),\"%\")"
   ]
  },
  {
   "cell_type": "code",
   "execution_count": 6,
   "id": "ecb22559",
   "metadata": {},
   "outputs": [
    {
     "data": {
      "image/png": "[encoded data removed]",
      "text/plain": [
       "<Figure size 500x300 with 1 Axes>"
      ]
     },
     "metadata": {},
     "output_type": "display_data"
    }
   ],
   "source": [
    "ratings = train_data[\"rating\"]\n",
    "\n",
    "# Count the frequency of each rating\n",
    "rating_counts = ratings.value_counts().sort_index()\n",
    "\n",
    "plt.figure(figsize=(5, 3))\n",
    "plt.bar(rating_counts.index, rating_counts.values, edgecolor='black', alpha=0.7)\n",
    "plt.title('Distribución de Ratings')\n",
    "plt.xlabel('Rating')\n",
    "plt.ylabel('Frecuencia')\n",
    "plt.xticks([1, 2, 3, 4, 5])\n",
    "plt.grid(True, alpha=0.3)\n",
    "plt.show()\n"
   ]
  }
 ],
 "metadata": {
  "kernelspec": {
   "display_name": "Python 3",
   "language": "python",
   "name": "python3"
  },
  "language_info": {
   "codemirror_mode": {
    "name": "ipython",
    "version": 3
   },
   "file_extension": ".py",
   "mimetype": "text/x-python",
   "name": "python",
   "nbconvert_exporter": "python",
   "pygments_lexer": "ipython3",
   "version": "3.10.11"
  }
 },
 "nbformat": 4,
 "nbformat_minor": 5
}
