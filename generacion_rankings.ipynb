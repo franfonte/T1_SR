{
 "cells": [
  {
   "cell_type": "markdown",
   "id": "61cadb21",
   "metadata": {},
   "source": [
    "### Primero se importan las bibliotecas necesarias"
   ]
  },
  {
   "cell_type": "code",
   "execution_count": 1,
   "id": "2eef3e64",
   "metadata": {},
   "outputs": [],
   "source": [
    "import pandas as pd\n",
    "import matplotlib.pyplot as plt\n",
    "import numpy as np\n",
    "import os\n",
    "import time\n",
    "import psutil\n",
    "from collections import defaultdict\n",
    "import seaborn as sns\n",
    "# Especiales de RecSys\n",
    "import surprise\n",
    "from surprise import accuracy\n",
    "from surprise import SVD\n",
    "from surprise import SVDpp\n",
    "from surprise.model_selection import PredefinedKFold\n",
    "from surprise.model_selection import cross_validate"
   ]
  },
  {
   "cell_type": "markdown",
   "id": "b1376115",
   "metadata": {},
   "source": [
    "### Funciones utiles"
   ]
  },
  {
   "cell_type": "code",
   "execution_count": 2,
   "id": "eca29fdd",
   "metadata": {},
   "outputs": [],
   "source": [
    "def costo_computacional(algoritmo, trainset, imprimir=True):\n",
    "    proceso = psutil.Process()\n",
    "    inicio_tiempo = time.time()\n",
    "    inicio_cpu = proceso.cpu_percent(interval=None)\n",
    "    inicio_memoria = proceso.memory_info().rss\n",
    "\n",
    "    algoritmo.fit(trainset)\n",
    "\n",
    "    fin_tiempo = time.time()\n",
    "    fin_cpu = proceso.cpu_percent(interval=None)\n",
    "    fin_memoria = proceso.memory_info().rss\n",
    "\n",
    "    tiempo = fin_tiempo - inicio_tiempo\n",
    "    cpu = fin_cpu - inicio_cpu\n",
    "    memoria = (fin_memoria - inicio_memoria) / (1024 * 1024)\n",
    "\n",
    "    if imprimir:\n",
    "        print(f\"Tiempo entrenamiento: {tiempo:.2f} segundos\")\n",
    "        print(f\"Uso de CPU: {cpu:.2f}%\")\n",
    "        print(f\"Uso de memoria: {memoria:.2f} MB\")\n",
    "    return tiempo, cpu, memoria\n",
    "\n",
    "def get_top_n(predictions, n=10):\n",
    "    \"\"\"Devuelve las N-mejores recomendaciones para cada usuario de un set de predicción.\n",
    "\n",
    "    Args:\n",
    "        predictions(lista de objetos Prediction): La lista de predicción obtenida del método test.\n",
    "        n(int): El número de recomendaciónes por usuario\n",
    "\n",
    "    Returns:\n",
    "    Un diccionario donde las llaves son ids de usuario y los valores son listas de tuplas:\n",
    "        [(item id, rating estimation), ...] de tamaño n.\n",
    "    \"\"\"\n",
    "\n",
    "    # First map the predictions to each user.\n",
    "    top_n = defaultdict(list)\n",
    "    for uid, iid, true_r, est, _ in predictions:\n",
    "        top_n[uid].append((iid, est))\n",
    "\n",
    "    # Then sort the predictions for each user and retrieve the k highest ones.\n",
    "    for uid, user_ratings in top_n.items():\n",
    "        user_ratings.sort(key=lambda x: x[1], reverse=True)\n",
    "        top_n[uid] = user_ratings[:n]\n",
    "\n",
    "    return top_n"
   ]
  },
  {
   "cell_type": "markdown",
   "id": "e4c15863",
   "metadata": {},
   "source": [
    "### Datos a utilizar"
   ]
  },
  {
   "cell_type": "code",
   "execution_count": 3,
   "id": "3469a0d1",
   "metadata": {},
   "outputs": [],
   "source": [
    "train_data = pd.read_csv(\"datos/train.csv\")\n",
    "validation_data = pd.read_csv(\"datos/validation.csv\")"
   ]
  },
  {
   "cell_type": "code",
   "execution_count": 4,
   "id": "5018c49f",
   "metadata": {},
   "outputs": [
    {
     "data": {
      "text/html": [
       "<div>\n",
       "<style scoped>\n",
       "    .dataframe tbody tr th:only-of-type {\n",
       "        vertical-align: middle;\n",
       "    }\n",
       "\n",
       "    .dataframe tbody tr th {\n",
       "        vertical-align: top;\n",
       "    }\n",
       "\n",
       "    .dataframe thead th {\n",
       "        text-align: right;\n",
       "    }\n",
       "</style>\n",
       "<table border=\"1\" class=\"dataframe\">\n",
       "  <thead>\n",
       "    <tr style=\"text-align: right;\">\n",
       "      <th></th>\n",
       "      <th>rating</th>\n",
       "      <th>review_title</th>\n",
       "      <th>text</th>\n",
       "      <th>timestamp</th>\n",
       "      <th>item_title</th>\n",
       "      <th>item_id</th>\n",
       "      <th>user_id</th>\n",
       "    </tr>\n",
       "  </thead>\n",
       "  <tbody>\n",
       "    <tr>\n",
       "      <th>0</th>\n",
       "      <td>5.0</td>\n",
       "      <td>Five Stars</td>\n",
       "      <td>yay</td>\n",
       "      <td>2015-03-16 16:15:22.000</td>\n",
       "      <td>WWF Smackdown 2: Know Your Role</td>\n",
       "      <td>23386</td>\n",
       "      <td>238159</td>\n",
       "    </tr>\n",
       "    <tr>\n",
       "      <th>1</th>\n",
       "      <td>5.0</td>\n",
       "      <td>Fantastic Reprise of a Classic</td>\n",
       "      <td>Shogun: Total War was the title that marked th...</td>\n",
       "      <td>2011-05-11 14:40:55.000</td>\n",
       "      <td>Total War: Shogun 2 -The Blood Pack DLC [Onlin...</td>\n",
       "      <td>11444</td>\n",
       "      <td>9040</td>\n",
       "    </tr>\n",
       "    <tr>\n",
       "      <th>2</th>\n",
       "      <td>3.0</td>\n",
       "      <td>Staircase movement action sucks</td>\n",
       "      <td>Remember block graphics?  Like when Fry become...</td>\n",
       "      <td>2009-04-02 14:38:37.000</td>\n",
       "      <td>Final Fantasy Crystal Chronicles: Echoes of Ti...</td>\n",
       "      <td>14619</td>\n",
       "      <td>502328</td>\n",
       "    </tr>\n",
       "    <tr>\n",
       "      <th>3</th>\n",
       "      <td>3.0</td>\n",
       "      <td>Three Stars</td>\n",
       "      <td>nice!</td>\n",
       "      <td>2015-06-08 16:52:08.000</td>\n",
       "      <td>Age of Empires III: The Asian Dynasties Expans...</td>\n",
       "      <td>11644</td>\n",
       "      <td>210635</td>\n",
       "    </tr>\n",
       "    <tr>\n",
       "      <th>4</th>\n",
       "      <td>5.0</td>\n",
       "      <td>Just what I needed!</td>\n",
       "      <td>It came on time and in perfect condition. I've...</td>\n",
       "      <td>2013-01-18 08:21:26.000</td>\n",
       "      <td>Xbox 360 Data Transfer Cable</td>\n",
       "      <td>17020</td>\n",
       "      <td>1665901</td>\n",
       "    </tr>\n",
       "  </tbody>\n",
       "</table>\n",
       "</div>"
      ],
      "text/plain": [
       "   rating                     review_title  \\\n",
       "0     5.0                       Five Stars   \n",
       "1     5.0   Fantastic Reprise of a Classic   \n",
       "2     3.0  Staircase movement action sucks   \n",
       "3     3.0                      Three Stars   \n",
       "4     5.0              Just what I needed!   \n",
       "\n",
       "                                                text                timestamp  \\\n",
       "0                                                yay  2015-03-16 16:15:22.000   \n",
       "1  Shogun: Total War was the title that marked th...  2011-05-11 14:40:55.000   \n",
       "2  Remember block graphics?  Like when Fry become...  2009-04-02 14:38:37.000   \n",
       "3                                              nice!  2015-06-08 16:52:08.000   \n",
       "4  It came on time and in perfect condition. I've...  2013-01-18 08:21:26.000   \n",
       "\n",
       "                                          item_title  item_id  user_id  \n",
       "0                    WWF Smackdown 2: Know Your Role    23386   238159  \n",
       "1  Total War: Shogun 2 -The Blood Pack DLC [Onlin...    11444     9040  \n",
       "2  Final Fantasy Crystal Chronicles: Echoes of Ti...    14619   502328  \n",
       "3  Age of Empires III: The Asian Dynasties Expans...    11644   210635  \n",
       "4                       Xbox 360 Data Transfer Cable    17020  1665901  "
      ]
     },
     "execution_count": 4,
     "metadata": {},
     "output_type": "execute_result"
    }
   ],
   "source": [
    "validation_data.head()"
   ]
  },
  {
   "cell_type": "markdown",
   "id": "43fae172",
   "metadata": {},
   "source": [
    "### 1. Random"
   ]
  },
  {
   "cell_type": "code",
   "execution_count": 5,
   "id": "175c52ae",
   "metadata": {},
   "outputs": [],
   "source": [
    "# Creamos un database de predicciones aleatorias que puede ser utilizado por get_top_n\n",
    "random_pred = validation_data[[\"user_id\", \"item_id\", \"rating\"]].copy()\n",
    "random_pred[\"estimado\"] = np.random.uniform(1, 5, size=len(random_pred))\n",
    "\n",
    "# Se convierte en una lista de tuplas en el formato (uid, iid, true_r, est, _)\n",
    "predictions_random = []\n",
    "for _, row in random_pred.iterrows():\n",
    "    predictions_random.append((int(row['user_id']), int(row['item_id']), float(row['rating']), float(row['estimado']), None))\n",
    "\n",
    "# Obtener las mejores N recomendaciones\n",
    "top_n_random = get_top_n(predictions_random, n=10)"
   ]
  },
  {
   "cell_type": "markdown",
   "id": "154f1e2b",
   "metadata": {},
   "source": [
    "### 2. Item-based collaborative filtering"
   ]
  },
  {
   "cell_type": "code",
   "execution_count": 6,
   "id": "08284bd0",
   "metadata": {},
   "outputs": [
    {
     "name": "stdout",
     "output_type": "stream",
     "text": [
      "Computing the pearson similarity matrix...\n",
      "Done computing similarity matrix.\n"
     ]
    }
   ],
   "source": [
    "# La lectura de datos sirve tanto para item-based como para funkSVD al usar Surprise\n",
    "reader = surprise.Reader(rating_scale=(1,5))\n",
    "trainset = surprise.Dataset.load_from_df(train_data[[\"user_id\", \"item_id\", \"rating\"]], reader).build_full_trainset()\n",
    "testset = list(zip(validation_data[\"user_id\"], validation_data[\"item_id\"], validation_data[\"rating\"]))\n",
    "\n",
    "# Parte especifica de entrenamiento del algoritmo\n",
    "myItemKnn = surprise.KNNBasic(k=7, sim_options={'name': 'pearson', 'user_based': False})\n",
    "tiempo, cpu, memoria =costo_computacional(myItemKnn, trainset, False)\n",
    "predictions_iknn = myItemKnn.test(testset)\n",
    "\n",
    "# Obtener las mejores N recomendaciones\n",
    "top_n_iknn = get_top_n(predictions_iknn, n=10)"
   ]
  },
  {
   "cell_type": "markdown",
   "id": "e235f926",
   "metadata": {},
   "source": [
    "### 3. FunkSVD"
   ]
  },
  {
   "cell_type": "code",
   "execution_count": 7,
   "id": "ed694c03",
   "metadata": {},
   "outputs": [],
   "source": [
    "# Parte especifica de entrenamiento del algoritmo\n",
    "funksvd = SVD(n_factors = 100, n_epochs = 20, lr_all = 0.005, reg_all = 0.02)\n",
    "tiempo, cpu, memoria =costo_computacional(funksvd, trainset, False)\n",
    "predictions_funksvd = funksvd.test(testset)\n",
    "\n",
    "# Obtener las mejores N recomendaciones\n",
    "top_n_funksvd = get_top_n(predictions_funksvd, n=10)"
   ]
  },
  {
   "cell_type": "markdown",
   "id": "e8a290c9",
   "metadata": {},
   "source": [
    "### 4. ALS"
   ]
  },
  {
   "cell_type": "markdown",
   "id": "3a170559",
   "metadata": {},
   "source": [
    "### 5. BPR"
   ]
  },
  {
   "cell_type": "markdown",
   "id": "91c95b2e",
   "metadata": {},
   "source": [
    "### 6. Factorization Machines"
   ]
  }
 ],
 "metadata": {
  "kernelspec": {
   "display_name": "Python 3",
   "language": "python",
   "name": "python3"
  },
  "language_info": {
   "codemirror_mode": {
    "name": "ipython",
    "version": 3
   },
   "file_extension": ".py",
   "mimetype": "text/x-python",
   "name": "python",
   "nbconvert_exporter": "python",
   "pygments_lexer": "ipython3",
   "version": "3.10.11"
  }
 },
 "nbformat": 4,
 "nbformat_minor": 5
}
