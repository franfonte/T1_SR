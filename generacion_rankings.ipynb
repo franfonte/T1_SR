{
 "cells": [
  {
   "cell_type": "markdown",
   "id": "61cadb21",
   "metadata": {},
   "source": [
    "### Primero se importan las bibliotecas necesarias"
   ]
  },
  {
   "cell_type": "code",
   "execution_count": null,
   "id": "2eef3e64",
   "metadata": {},
   "outputs": [],
   "source": [
    "import pandas as pd\n",
    "import matplotlib.pyplot as plt\n",
    "import numpy as np\n",
    "import os"
   ]
  },
  {
   "cell_type": "markdown",
   "id": "43fae172",
   "metadata": {},
   "source": [
    "### 1. Random"
   ]
  },
  {
   "cell_type": "markdown",
   "id": "154f1e2b",
   "metadata": {},
   "source": [
    "### 2. Item-based collaborative filtering"
   ]
  },
  {
   "cell_type": "markdown",
   "id": "e235f926",
   "metadata": {},
   "source": [
    "### 3. FunkSVD"
   ]
  },
  {
   "cell_type": "markdown",
   "id": "e8a290c9",
   "metadata": {},
   "source": [
    "### 4. ALS"
   ]
  },
  {
   "cell_type": "markdown",
   "id": "3a170559",
   "metadata": {},
   "source": [
    "### 5. BPR"
   ]
  },
  {
   "cell_type": "markdown",
   "id": "91c95b2e",
   "metadata": {},
   "source": [
    "### 6. Factorization Machines"
   ]
  }
 ],
 "metadata": {
  "kernelspec": {
   "display_name": "Python 3",
   "language": "python",
   "name": "python3"
  },
  "language_info": {
   "name": "python",
   "version": "3.10.11"
  }
 },
 "nbformat": 4,
 "nbformat_minor": 5
}
